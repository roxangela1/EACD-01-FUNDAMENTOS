{
  "nbformat": 4,
  "nbformat_minor": 0,
  "metadata": {
    "colab": {
      "name": "02_Elementos_basicos_del_lenguaje.ipynb",
      "provenance": [],
      "include_colab_link": true
    },
    "kernelspec": {
      "name": "python3",
      "display_name": "Python 3"
    }
  },
  "cells": [
    {
      "cell_type": "markdown",
      "metadata": {
        "id": "view-in-github",
        "colab_type": "text"
      },
      "source": [
        "<a href=\"https://colab.research.google.com/github/roxangela1/EACD-01-FUNDAMENTOS/blob/master/02_Elementos_basicos_del_lenguaje.ipynb\" target=\"_parent\"><img src=\"https://colab.research.google.com/assets/colab-badge.svg\" alt=\"Open In Colab\"/></a>"
      ]
    },
    {
      "cell_type": "markdown",
      "metadata": {
        "id": "6EBd6oA5g4-g"
      },
      "source": [
        "![Universidad Central](https://www.ucentral.edu.co/sites/default/files/inline-images/identificadores-Centrados_en_ti_logo-h.png)"
      ]
    },
    {
      "cell_type": "markdown",
      "metadata": {
        "id": "cIvb64jEg65F"
      },
      "source": [
        "# __CURSO DE PROGRAMACIÓN PARA ANALÍTICA DE DATOS__ <br><br>\n",
        "\n",
        "> ## __TALLER N° 2:  ELEMENTOS BÁSICOS DEL LENGUAJE__ <br><br>\n",
        ">\n",
        "> ## Profesor: Jorge Victorino [jvictorinog@ucentral.edu.co](jvictorinog@ucentral.edu.co)<br>\n",
        "> ### Facultad de Ingeniería y Ciencias Básicas <br>\n",
        "> ### Universidad Central <br>\n",
        "> <br>\n",
        "\n",
        "***"
      ]
    },
    {
      "cell_type": "markdown",
      "metadata": {
        "id": "JtkkPzMDVvwh"
      },
      "source": [
        "\n",
        "## __Contenido general__\n",
        "1. Operadores aritméticos\n",
        "2. Varibles y expresiones airtméticas\n",
        "2. Comentarios\n",
        "2. Entrada y salida básica\n",
        "2. Tipos de datos\n",
        "2. Ejercicios de lógica\n",
        "---\n",
        "\n"
      ]
    },
    {
      "cell_type": "markdown",
      "metadata": {
        "id": "Amg-P_DAfsDN"
      },
      "source": [
        "## __Contenido detallado__\n",
        "\n",
        "1. Operadores aritméticos\n",
        "    - Básicos\n",
        "    - potenciación\n",
        "    - división entera\n",
        "    - módulo\n",
        "2. Variables y expresiones aritméticas\n",
        "     - Concepto de variable\n",
        "     - Asignación (simple y múltiple)\n",
        "     - Reglas de nombramiento de variables\n",
        "     - Expresiones aritméticas simples\n",
        "     - Precedencia de operadores y uso de paréntesis\n",
        "     - Identificadores `%who, %whos` \n",
        "     - Función `del`\n",
        "2. Comentarios\n",
        "    - Comentarios de línea\n",
        "    - Comentarios multilínea\n",
        "2. Entrada y salida básica\n",
        "    - Salida por consola `print`\n",
        "    - Entrada por consola `input`\n",
        "2. Tipos de datos\n",
        "    - Numérico - enteros decimales\n",
        "    - Numérico - valores reales\n",
        "    - Cadenas de texto\n",
        "    - Valores lógicos\n",
        "    - Objetos\n",
        "    - Funciones `type, int, float, str`\n",
        "    - Cadenas de texto con marcadores\n",
        "2. Ejercicios de lógica\n",
        "---"
      ]
    },
    {
      "cell_type": "markdown",
      "metadata": {
        "id": "lvx1tIe66Uee"
      },
      "source": [
        "# __Introducción__\n",
        "\n",
        ">Este tutorial está escrito en un **Cuaderno** o Notebook de *Python*. El cuaderno es proporcionado por el software Anaconda usando un módulo llamado *Jupyter* o por *Google Drive* mediante una aplicación llamada **Colaboratory**. El  **Cuaderno** tiene tres componentes CODE, TEXT y OUTPUT. \n",
        "* TEXT0: espacio para escribir texto con formato, es posible agregar fórmulas, imágenes, tablas, entre otros muchos elementos. Ideal para documentar los trabajos y reportar resultados.\n",
        "* CÓDIGO: espacio para escribir un programa usando el lenguaje de python\n",
        "* RESULTADO: este espacio se genera debajo de un componente de código, cuando este último se ejecuta. Muestra los resultados del programa o los errores en dado caso. Los resultados de la ejecución pueden ser numéricos, texto, gráficas, imágenes, etc.\n",
        "\n",
        "## Antes de comenzar\n",
        ">- Configure el entorno de programación\n",
        "    - El tema\n",
        "    - Cantidad de espacios de tabulación\n",
        "- Familiaricese con el entorno de programación\n",
        "    - Elementos del entorno (esquema, archivos, panel, menú)\n",
        "    - Abreviaciones de teclado\n",
        "\n",
        ">Para información de referencia en elementos básicos del lenguaje visite: [Covantec cap3](https://entrenamiento-python-basico.readthedocs.io/es/latest/leccion3/) o más información de otros elementos: [Aquí](https://entrenamiento-python-basico.readthedocs.io/es/latest/)\n",
        "\n",
        "\n",
        "\n"
      ]
    },
    {
      "cell_type": "markdown",
      "metadata": {
        "id": "we41uF91_Gkv"
      },
      "source": [
        "# __1. Operadores aritméticos__\n",
        "> __Uso de python como calculadora__\n",
        "\n",
        ">Para escribir las instrucciones en Python, genere un espacio de código y escriba la operación. Tenga en cuenta que los operadores requieren un orden y en general deben tener dos valores a cada lado. Por ejemplo:\n",
        "\n",
        ">Operación | Siginificado | Resultado\n",
        ">--- | --- | ---\n",
        ">5032 + 7624 + 365  | sumar valores | 13021\n",
        ">18213 - 9567.5  | restar valores | 8645.5\n",
        ">13.3 * 8.52  | multiplicación |  113.316\n",
        ">35698.7 / 798.23 | división |  44.72232314\n",
        ">23 / 8 | División | 2.875\n",
        ">23 // 8 | División entera | 2\n",
        ">23 % 8 | Módulo de la división | 7\n",
        ">13\\*\\*2 | Potenciación | 169\n",
        "\n",
        "\n",
        "> ## __Ejercicio__ \n",
        "En un bloque de código pruebe una a una las operaciones de la tabla y verifique el resultado\n",
        "\n",
        "\n"
      ]
    },
    {
      "cell_type": "code",
      "metadata": {
        "id": "xeje7k8tAbk7"
      },
      "source": [
        "# Escriba las operaciones de la tabla aquí"
      ],
      "execution_count": null,
      "outputs": []
    },
    {
      "cell_type": "markdown",
      "metadata": {
        "id": "iSGRl4zIAp-U"
      },
      "source": [
        "## Operadores módulo `%` y división entera `//`\n",
        ">Estos son dos operadores diferentes a los tradicionales, lo cuales, son ampliamente utilizados en programación:\n",
        "![hola](https://www.esploradores.com/wp-content/uploads/2019/07/division_5.jpg)\n",
        "\n",
        "\n",
        "> A la izquieda se observa la división normal `(/)` y a la derecha la división entera \"cociente\" `(//)`, y aquí, también se puede apreciar el módulo de la división \"resto\" `(%)`. Esto quiere decir que:\n",
        "- 63 división entera 2 es igual a 31\n",
        "- 63 módulo 2 es igual a 1 \n",
        "\n",
        "## __Ejercicio__\n",
        "\n",
        "Pruebe las siguientes operaciones:\n",
        "- Hallar el módulo y la división entera de 7 con los valores: `{2, 3, 5, 7, 10, 11, 14}`\n",
        "- Observe los resultados del módulo y concluya algunas propiedades de esta operación\n",
        "- Hallar el módulo y la división entera de -4.5 con los valores: `{2, 1.5, 5, 10}`\n",
        "- que más se puede concluir de estas operaciones?\n"
      ]
    },
    {
      "cell_type": "code",
      "metadata": {
        "id": "NCEO3PoQ2bO3"
      },
      "source": [
        "# pruebe aquí las operaciones"
      ],
      "execution_count": null,
      "outputs": []
    },
    {
      "cell_type": "code",
      "metadata": {
        "id": "i-4Na_RJEefZ",
        "colab": {
          "base_uri": "https://localhost:8080/",
          "height": 542
        },
        "outputId": "744fbf3d-0758-4766-cf0e-859f1dd4bda2"
      },
      "source": [
        "import plotly.graph_objects as go\n",
        "X = [i/10 for i in range(-200, 150)]\n",
        "Y = [i%5 for i in X]\n",
        "Z = [i//5 for i in X]\n",
        "fig = go.Figure()\n",
        "fig.add_trace(go.Scatter(x=X, y=Y, mode='lines+markers', name='modulo'))\n",
        "fig.add_trace(go.Scatter(x=X, y=Z, mode='lines+markers', name='division'))\n",
        "fig.update_layout(title=\"Comparación Módulo y División entera\", template=\"plotly_white\")\n",
        "fig.show()"
      ],
      "execution_count": null,
      "outputs": [
        {
          "output_type": "display_data",
          "data": {
            "text/html": [
              "<html>\n",
              "<head><meta charset=\"utf-8\" /></head>\n",
              "<body>\n",
              "    <div>\n",
              "            <script src=\"https://cdnjs.cloudflare.com/ajax/libs/mathjax/2.7.5/MathJax.js?config=TeX-AMS-MML_SVG\"></script><script type=\"text/javascript\">if (window.MathJax) {MathJax.Hub.Config({SVG: {font: \"STIX-Web\"}});}</script>\n",
              "                <script type=\"text/javascript\">window.PlotlyConfig = {MathJaxConfig: 'local'};</script>\n",
              "        <script src=\"https://cdn.plot.ly/plotly-latest.min.js\"></script>    \n",
              "            <div id=\"fb17bf48-0db9-4059-92ee-f62493d699a5\" class=\"plotly-graph-div\" style=\"height:525px; width:100%;\"></div>\n",
              "            <script type=\"text/javascript\">\n",
              "                \n",
              "                    window.PLOTLYENV=window.PLOTLYENV || {};\n",
              "                    \n",
              "                if (document.getElementById(\"fb17bf48-0db9-4059-92ee-f62493d699a5\")) {\n",
              "                    Plotly.newPlot(\n",
              "                        'fb17bf48-0db9-4059-92ee-f62493d699a5',\n",
              "                        [{\"mode\": \"lines+markers\", \"name\": \"modulo\", \"type\": \"scatter\", \"x\": [-20.0, -19.9, -19.8, -19.7, -19.6, -19.5, -19.4, -19.3, -19.2, -19.1, -19.0, -18.9, -18.8, -18.7, -18.6, -18.5, -18.4, -18.3, -18.2, -18.1, -18.0, -17.9, -17.8, -17.7, -17.6, -17.5, -17.4, -17.3, -17.2, -17.1, -17.0, -16.9, -16.8, -16.7, -16.6, -16.5, -16.4, -16.3, -16.2, -16.1, -16.0, -15.9, -15.8, -15.7, -15.6, -15.5, -15.4, -15.3, -15.2, -15.1, -15.0, -14.9, -14.8, -14.7, -14.6, -14.5, -14.4, -14.3, -14.2, -14.1, -14.0, -13.9, -13.8, -13.7, -13.6, -13.5, -13.4, -13.3, -13.2, -13.1, -13.0, -12.9, -12.8, -12.7, -12.6, -12.5, -12.4, -12.3, -12.2, -12.1, -12.0, -11.9, -11.8, -11.7, -11.6, -11.5, -11.4, -11.3, -11.2, -11.1, -11.0, -10.9, -10.8, -10.7, -10.6, -10.5, -10.4, -10.3, -10.2, -10.1, -10.0, -9.9, -9.8, -9.7, -9.6, -9.5, -9.4, -9.3, -9.2, -9.1, -9.0, -8.9, -8.8, -8.7, -8.6, -8.5, -8.4, -8.3, -8.2, -8.1, -8.0, -7.9, -7.8, -7.7, -7.6, -7.5, -7.4, -7.3, -7.2, -7.1, -7.0, -6.9, -6.8, -6.7, -6.6, -6.5, -6.4, -6.3, -6.2, -6.1, -6.0, -5.9, -5.8, -5.7, -5.6, -5.5, -5.4, -5.3, -5.2, -5.1, -5.0, -4.9, -4.8, -4.7, -4.6, -4.5, -4.4, -4.3, -4.2, -4.1, -4.0, -3.9, -3.8, -3.7, -3.6, -3.5, -3.4, -3.3, -3.2, -3.1, -3.0, -2.9, -2.8, -2.7, -2.6, -2.5, -2.4, -2.3, -2.2, -2.1, -2.0, -1.9, -1.8, -1.7, -1.6, -1.5, -1.4, -1.3, -1.2, -1.1, -1.0, -0.9, -0.8, -0.7, -0.6, -0.5, -0.4, -0.3, -0.2, -0.1, 0.0, 0.1, 0.2, 0.3, 0.4, 0.5, 0.6, 0.7, 0.8, 0.9, 1.0, 1.1, 1.2, 1.3, 1.4, 1.5, 1.6, 1.7, 1.8, 1.9, 2.0, 2.1, 2.2, 2.3, 2.4, 2.5, 2.6, 2.7, 2.8, 2.9, 3.0, 3.1, 3.2, 3.3, 3.4, 3.5, 3.6, 3.7, 3.8, 3.9, 4.0, 4.1, 4.2, 4.3, 4.4, 4.5, 4.6, 4.7, 4.8, 4.9, 5.0, 5.1, 5.2, 5.3, 5.4, 5.5, 5.6, 5.7, 5.8, 5.9, 6.0, 6.1, 6.2, 6.3, 6.4, 6.5, 6.6, 6.7, 6.8, 6.9, 7.0, 7.1, 7.2, 7.3, 7.4, 7.5, 7.6, 7.7, 7.8, 7.9, 8.0, 8.1, 8.2, 8.3, 8.4, 8.5, 8.6, 8.7, 8.8, 8.9, 9.0, 9.1, 9.2, 9.3, 9.4, 9.5, 9.6, 9.7, 9.8, 9.9, 10.0, 10.1, 10.2, 10.3, 10.4, 10.5, 10.6, 10.7, 10.8, 10.9, 11.0, 11.1, 11.2, 11.3, 11.4, 11.5, 11.6, 11.7, 11.8, 11.9, 12.0, 12.1, 12.2, 12.3, 12.4, 12.5, 12.6, 12.7, 12.8, 12.9, 13.0, 13.1, 13.2, 13.3, 13.4, 13.5, 13.6, 13.7, 13.8, 13.9, 14.0, 14.1, 14.2, 14.3, 14.4, 14.5, 14.6, 14.7, 14.8, 14.9], \"y\": [0.0, 0.10000000000000142, 0.1999999999999993, 0.3000000000000007, 0.3999999999999986, 0.5, 0.6000000000000014, 0.6999999999999993, 0.8000000000000007, 0.8999999999999986, 1.0, 1.1000000000000014, 1.1999999999999993, 1.3000000000000007, 1.3999999999999986, 1.5, 1.6000000000000014, 1.6999999999999993, 1.8000000000000007, 1.8999999999999986, 2.0, 2.1000000000000014, 2.1999999999999993, 2.3000000000000007, 2.3999999999999986, 2.5, 2.6000000000000014, 2.6999999999999993, 2.8000000000000007, 2.8999999999999986, 3.0, 3.1000000000000014, 3.1999999999999993, 3.3000000000000007, 3.3999999999999986, 3.5, 3.6000000000000014, 3.6999999999999993, 3.8000000000000007, 3.8999999999999986, 4.0, 4.1, 4.199999999999999, 4.300000000000001, 4.4, 4.5, 4.6, 4.699999999999999, 4.800000000000001, 4.9, 0.0, 0.09999999999999964, 0.1999999999999993, 0.3000000000000007, 0.40000000000000036, 0.5, 0.5999999999999996, 0.6999999999999993, 0.8000000000000007, 0.9000000000000004, 1.0, 1.0999999999999996, 1.1999999999999993, 1.3000000000000007, 1.4000000000000004, 1.5, 1.5999999999999996, 1.6999999999999993, 1.8000000000000007, 1.9000000000000004, 2.0, 2.0999999999999996, 2.1999999999999993, 2.3000000000000007, 2.4000000000000004, 2.5, 2.5999999999999996, 2.6999999999999993, 2.8000000000000007, 2.9000000000000004, 3.0, 3.0999999999999996, 3.1999999999999993, 3.3000000000000007, 3.4000000000000004, 3.5, 3.5999999999999996, 3.6999999999999993, 3.8000000000000007, 3.9000000000000004, 4.0, 4.1, 4.199999999999999, 4.300000000000001, 4.4, 4.5, 4.6, 4.699999999999999, 4.800000000000001, 4.9, 0.0, 0.09999999999999964, 0.1999999999999993, 0.3000000000000007, 0.40000000000000036, 0.5, 0.5999999999999996, 0.6999999999999993, 0.8000000000000007, 0.9000000000000004, 1.0, 1.0999999999999996, 1.1999999999999993, 1.3000000000000007, 1.4000000000000004, 1.5, 1.5999999999999996, 1.6999999999999993, 1.8000000000000007, 1.9000000000000004, 2.0, 2.0999999999999996, 2.2, 2.3, 2.4000000000000004, 2.5, 2.5999999999999996, 2.7, 2.8, 2.9000000000000004, 3.0, 3.0999999999999996, 3.2, 3.3, 3.4000000000000004, 3.5, 3.5999999999999996, 3.7, 3.8, 3.9000000000000004, 4.0, 4.1, 4.2, 4.3, 4.4, 4.5, 4.6, 4.7, 4.8, 4.9, 0.0, 0.09999999999999964, 0.20000000000000018, 0.2999999999999998, 0.40000000000000036, 0.5, 0.5999999999999996, 0.7000000000000002, 0.7999999999999998, 0.9000000000000004, 1.0, 1.1, 1.2000000000000002, 1.2999999999999998, 1.4, 1.5, 1.6, 1.7000000000000002, 1.7999999999999998, 1.9, 2.0, 2.1, 2.2, 2.3, 2.4, 2.5, 2.6, 2.7, 2.8, 2.9, 3.0, 3.1, 3.2, 3.3, 3.4, 3.5, 3.6, 3.7, 3.8, 3.9, 4.0, 4.1, 4.2, 4.3, 4.4, 4.5, 4.6, 4.7, 4.8, 4.9, 0.0, 0.1, 0.2, 0.3, 0.4, 0.5, 0.6, 0.7, 0.8, 0.9, 1.0, 1.1, 1.2, 1.3, 1.4, 1.5, 1.6, 1.7, 1.8, 1.9, 2.0, 2.1, 2.2, 2.3, 2.4, 2.5, 2.6, 2.7, 2.8, 2.9, 3.0, 3.1, 3.2, 3.3, 3.4, 3.5, 3.6, 3.7, 3.8, 3.9, 4.0, 4.1, 4.2, 4.3, 4.4, 4.5, 4.6, 4.7, 4.8, 4.9, 0.0, 0.09999999999999964, 0.20000000000000018, 0.2999999999999998, 0.40000000000000036, 0.5, 0.5999999999999996, 0.7000000000000002, 0.7999999999999998, 0.9000000000000004, 1.0, 1.0999999999999996, 1.2000000000000002, 1.2999999999999998, 1.4000000000000004, 1.5, 1.5999999999999996, 1.7000000000000002, 1.7999999999999998, 1.9000000000000004, 2.0, 2.0999999999999996, 2.2, 2.3, 2.4000000000000004, 2.5, 2.5999999999999996, 2.7, 2.8, 2.9000000000000004, 3.0, 3.0999999999999996, 3.1999999999999993, 3.3000000000000007, 3.4000000000000004, 3.5, 3.5999999999999996, 3.6999999999999993, 3.8000000000000007, 3.9000000000000004, 4.0, 4.1, 4.199999999999999, 4.300000000000001, 4.4, 4.5, 4.6, 4.699999999999999, 4.800000000000001, 4.9, 0.0, 0.09999999999999964, 0.1999999999999993, 0.3000000000000007, 0.40000000000000036, 0.5, 0.5999999999999996, 0.6999999999999993, 0.8000000000000007, 0.9000000000000004, 1.0, 1.0999999999999996, 1.1999999999999993, 1.3000000000000007, 1.4000000000000004, 1.5, 1.5999999999999996, 1.6999999999999993, 1.8000000000000007, 1.9000000000000004, 2.0, 2.0999999999999996, 2.1999999999999993, 2.3000000000000007, 2.4000000000000004, 2.5, 2.5999999999999996, 2.6999999999999993, 2.8000000000000007, 2.9000000000000004, 3.0, 3.0999999999999996, 3.1999999999999993, 3.3000000000000007, 3.4000000000000004, 3.5, 3.5999999999999996, 3.6999999999999993, 3.8000000000000007, 3.9000000000000004, 4.0, 4.1, 4.199999999999999, 4.300000000000001, 4.4, 4.5, 4.6, 4.699999999999999, 4.800000000000001, 4.9]}, {\"mode\": \"lines+markers\", \"name\": \"division\", \"type\": \"scatter\", \"x\": [-20.0, -19.9, -19.8, -19.7, -19.6, -19.5, -19.4, -19.3, -19.2, -19.1, -19.0, -18.9, -18.8, -18.7, -18.6, -18.5, -18.4, -18.3, -18.2, -18.1, -18.0, -17.9, -17.8, -17.7, -17.6, -17.5, -17.4, -17.3, -17.2, -17.1, -17.0, -16.9, -16.8, -16.7, -16.6, -16.5, -16.4, -16.3, -16.2, -16.1, -16.0, -15.9, -15.8, -15.7, -15.6, -15.5, -15.4, -15.3, -15.2, -15.1, -15.0, -14.9, -14.8, -14.7, -14.6, -14.5, -14.4, -14.3, -14.2, -14.1, -14.0, -13.9, -13.8, -13.7, -13.6, -13.5, -13.4, -13.3, -13.2, -13.1, -13.0, -12.9, -12.8, -12.7, -12.6, -12.5, -12.4, -12.3, -12.2, -12.1, -12.0, -11.9, -11.8, -11.7, -11.6, -11.5, -11.4, -11.3, -11.2, -11.1, -11.0, -10.9, -10.8, -10.7, -10.6, -10.5, -10.4, -10.3, -10.2, -10.1, -10.0, -9.9, -9.8, -9.7, -9.6, -9.5, -9.4, -9.3, -9.2, -9.1, -9.0, -8.9, -8.8, -8.7, -8.6, -8.5, -8.4, -8.3, -8.2, -8.1, -8.0, -7.9, -7.8, -7.7, -7.6, -7.5, -7.4, -7.3, -7.2, -7.1, -7.0, -6.9, -6.8, -6.7, -6.6, -6.5, -6.4, -6.3, -6.2, -6.1, -6.0, -5.9, -5.8, -5.7, -5.6, -5.5, -5.4, -5.3, -5.2, -5.1, -5.0, -4.9, -4.8, -4.7, -4.6, -4.5, -4.4, -4.3, -4.2, -4.1, -4.0, -3.9, -3.8, -3.7, -3.6, -3.5, -3.4, -3.3, -3.2, -3.1, -3.0, -2.9, -2.8, -2.7, -2.6, -2.5, -2.4, -2.3, -2.2, -2.1, -2.0, -1.9, -1.8, -1.7, -1.6, -1.5, -1.4, -1.3, -1.2, -1.1, -1.0, -0.9, -0.8, -0.7, -0.6, -0.5, -0.4, -0.3, -0.2, -0.1, 0.0, 0.1, 0.2, 0.3, 0.4, 0.5, 0.6, 0.7, 0.8, 0.9, 1.0, 1.1, 1.2, 1.3, 1.4, 1.5, 1.6, 1.7, 1.8, 1.9, 2.0, 2.1, 2.2, 2.3, 2.4, 2.5, 2.6, 2.7, 2.8, 2.9, 3.0, 3.1, 3.2, 3.3, 3.4, 3.5, 3.6, 3.7, 3.8, 3.9, 4.0, 4.1, 4.2, 4.3, 4.4, 4.5, 4.6, 4.7, 4.8, 4.9, 5.0, 5.1, 5.2, 5.3, 5.4, 5.5, 5.6, 5.7, 5.8, 5.9, 6.0, 6.1, 6.2, 6.3, 6.4, 6.5, 6.6, 6.7, 6.8, 6.9, 7.0, 7.1, 7.2, 7.3, 7.4, 7.5, 7.6, 7.7, 7.8, 7.9, 8.0, 8.1, 8.2, 8.3, 8.4, 8.5, 8.6, 8.7, 8.8, 8.9, 9.0, 9.1, 9.2, 9.3, 9.4, 9.5, 9.6, 9.7, 9.8, 9.9, 10.0, 10.1, 10.2, 10.3, 10.4, 10.5, 10.6, 10.7, 10.8, 10.9, 11.0, 11.1, 11.2, 11.3, 11.4, 11.5, 11.6, 11.7, 11.8, 11.9, 12.0, 12.1, 12.2, 12.3, 12.4, 12.5, 12.6, 12.7, 12.8, 12.9, 13.0, 13.1, 13.2, 13.3, 13.4, 13.5, 13.6, 13.7, 13.8, 13.9, 14.0, 14.1, 14.2, 14.3, 14.4, 14.5, 14.6, 14.7, 14.8, 14.9], \"y\": [-4.0, -4.0, -4.0, -4.0, -4.0, -4.0, -4.0, -4.0, -4.0, -4.0, -4.0, -4.0, -4.0, -4.0, -4.0, -4.0, -4.0, -4.0, -4.0, -4.0, -4.0, -4.0, -4.0, -4.0, -4.0, -4.0, -4.0, -4.0, -4.0, -4.0, -4.0, -4.0, -4.0, -4.0, -4.0, -4.0, -4.0, -4.0, -4.0, -4.0, -4.0, -4.0, -4.0, -4.0, -4.0, -4.0, -4.0, -4.0, -4.0, -4.0, -3.0, -3.0, -3.0, -3.0, -3.0, -3.0, -3.0, -3.0, -3.0, -3.0, -3.0, -3.0, -3.0, -3.0, -3.0, -3.0, -3.0, -3.0, -3.0, -3.0, -3.0, -3.0, -3.0, -3.0, -3.0, -3.0, -3.0, -3.0, -3.0, -3.0, -3.0, -3.0, -3.0, -3.0, -3.0, -3.0, -3.0, -3.0, -3.0, -3.0, -3.0, -3.0, -3.0, -3.0, -3.0, -3.0, -3.0, -3.0, -3.0, -3.0, -2.0, -2.0, -2.0, -2.0, -2.0, -2.0, -2.0, -2.0, -2.0, -2.0, -2.0, -2.0, -2.0, -2.0, -2.0, -2.0, -2.0, -2.0, -2.0, -2.0, -2.0, -2.0, -2.0, -2.0, -2.0, -2.0, -2.0, -2.0, -2.0, -2.0, -2.0, -2.0, -2.0, -2.0, -2.0, -2.0, -2.0, -2.0, -2.0, -2.0, -2.0, -2.0, -2.0, -2.0, -2.0, -2.0, -2.0, -2.0, -2.0, -2.0, -1.0, -1.0, -1.0, -1.0, -1.0, -1.0, -1.0, -1.0, -1.0, -1.0, -1.0, -1.0, -1.0, -1.0, -1.0, -1.0, -1.0, -1.0, -1.0, -1.0, -1.0, -1.0, -1.0, -1.0, -1.0, -1.0, -1.0, -1.0, -1.0, -1.0, -1.0, -1.0, -1.0, -1.0, -1.0, -1.0, -1.0, -1.0, -1.0, -1.0, -1.0, -1.0, -1.0, -1.0, -1.0, -1.0, -1.0, -1.0, -1.0, -1.0, 0.0, 0.0, 0.0, 0.0, 0.0, 0.0, 0.0, 0.0, 0.0, 0.0, 0.0, 0.0, 0.0, 0.0, 0.0, 0.0, 0.0, 0.0, 0.0, 0.0, 0.0, 0.0, 0.0, 0.0, 0.0, 0.0, 0.0, 0.0, 0.0, 0.0, 0.0, 0.0, 0.0, 0.0, 0.0, 0.0, 0.0, 0.0, 0.0, 0.0, 0.0, 0.0, 0.0, 0.0, 0.0, 0.0, 0.0, 0.0, 0.0, 0.0, 1.0, 1.0, 1.0, 1.0, 1.0, 1.0, 1.0, 1.0, 1.0, 1.0, 1.0, 1.0, 1.0, 1.0, 1.0, 1.0, 1.0, 1.0, 1.0, 1.0, 1.0, 1.0, 1.0, 1.0, 1.0, 1.0, 1.0, 1.0, 1.0, 1.0, 1.0, 1.0, 1.0, 1.0, 1.0, 1.0, 1.0, 1.0, 1.0, 1.0, 1.0, 1.0, 1.0, 1.0, 1.0, 1.0, 1.0, 1.0, 1.0, 1.0, 2.0, 2.0, 2.0, 2.0, 2.0, 2.0, 2.0, 2.0, 2.0, 2.0, 2.0, 2.0, 2.0, 2.0, 2.0, 2.0, 2.0, 2.0, 2.0, 2.0, 2.0, 2.0, 2.0, 2.0, 2.0, 2.0, 2.0, 2.0, 2.0, 2.0, 2.0, 2.0, 2.0, 2.0, 2.0, 2.0, 2.0, 2.0, 2.0, 2.0, 2.0, 2.0, 2.0, 2.0, 2.0, 2.0, 2.0, 2.0, 2.0, 2.0]}],\n",
              "                        {\"template\": {\"data\": {\"bar\": [{\"error_x\": {\"color\": \"#2a3f5f\"}, \"error_y\": {\"color\": \"#2a3f5f\"}, \"marker\": {\"line\": {\"color\": \"white\", \"width\": 0.5}}, \"type\": \"bar\"}], \"barpolar\": [{\"marker\": {\"line\": {\"color\": \"white\", \"width\": 0.5}}, \"type\": \"barpolar\"}], \"carpet\": [{\"aaxis\": {\"endlinecolor\": \"#2a3f5f\", \"gridcolor\": \"#C8D4E3\", \"linecolor\": \"#C8D4E3\", \"minorgridcolor\": \"#C8D4E3\", \"startlinecolor\": \"#2a3f5f\"}, \"baxis\": {\"endlinecolor\": \"#2a3f5f\", \"gridcolor\": \"#C8D4E3\", \"linecolor\": \"#C8D4E3\", \"minorgridcolor\": \"#C8D4E3\", \"startlinecolor\": \"#2a3f5f\"}, \"type\": \"carpet\"}], \"choropleth\": [{\"colorbar\": {\"outlinewidth\": 0, \"ticks\": \"\"}, \"type\": \"choropleth\"}], \"contour\": [{\"colorbar\": {\"outlinewidth\": 0, \"ticks\": \"\"}, \"colorscale\": [[0.0, \"#0d0887\"], [0.1111111111111111, \"#46039f\"], [0.2222222222222222, \"#7201a8\"], [0.3333333333333333, \"#9c179e\"], [0.4444444444444444, \"#bd3786\"], [0.5555555555555556, \"#d8576b\"], [0.6666666666666666, \"#ed7953\"], [0.7777777777777778, \"#fb9f3a\"], [0.8888888888888888, \"#fdca26\"], [1.0, \"#f0f921\"]], \"type\": \"contour\"}], \"contourcarpet\": [{\"colorbar\": {\"outlinewidth\": 0, \"ticks\": \"\"}, \"type\": \"contourcarpet\"}], \"heatmap\": [{\"colorbar\": {\"outlinewidth\": 0, \"ticks\": \"\"}, \"colorscale\": [[0.0, \"#0d0887\"], [0.1111111111111111, \"#46039f\"], [0.2222222222222222, \"#7201a8\"], [0.3333333333333333, \"#9c179e\"], [0.4444444444444444, \"#bd3786\"], [0.5555555555555556, \"#d8576b\"], [0.6666666666666666, \"#ed7953\"], [0.7777777777777778, \"#fb9f3a\"], [0.8888888888888888, \"#fdca26\"], [1.0, \"#f0f921\"]], \"type\": \"heatmap\"}], \"heatmapgl\": [{\"colorbar\": {\"outlinewidth\": 0, \"ticks\": \"\"}, \"colorscale\": [[0.0, \"#0d0887\"], [0.1111111111111111, \"#46039f\"], [0.2222222222222222, \"#7201a8\"], [0.3333333333333333, \"#9c179e\"], [0.4444444444444444, \"#bd3786\"], [0.5555555555555556, \"#d8576b\"], [0.6666666666666666, \"#ed7953\"], [0.7777777777777778, \"#fb9f3a\"], [0.8888888888888888, \"#fdca26\"], [1.0, \"#f0f921\"]], \"type\": \"heatmapgl\"}], \"histogram\": [{\"marker\": {\"colorbar\": {\"outlinewidth\": 0, \"ticks\": \"\"}}, \"type\": \"histogram\"}], \"histogram2d\": [{\"colorbar\": {\"outlinewidth\": 0, \"ticks\": \"\"}, \"colorscale\": [[0.0, \"#0d0887\"], [0.1111111111111111, \"#46039f\"], [0.2222222222222222, \"#7201a8\"], [0.3333333333333333, \"#9c179e\"], [0.4444444444444444, \"#bd3786\"], [0.5555555555555556, \"#d8576b\"], [0.6666666666666666, \"#ed7953\"], [0.7777777777777778, \"#fb9f3a\"], [0.8888888888888888, \"#fdca26\"], [1.0, \"#f0f921\"]], \"type\": \"histogram2d\"}], \"histogram2dcontour\": [{\"colorbar\": {\"outlinewidth\": 0, \"ticks\": \"\"}, \"colorscale\": [[0.0, \"#0d0887\"], [0.1111111111111111, \"#46039f\"], [0.2222222222222222, \"#7201a8\"], [0.3333333333333333, \"#9c179e\"], [0.4444444444444444, \"#bd3786\"], [0.5555555555555556, \"#d8576b\"], [0.6666666666666666, \"#ed7953\"], [0.7777777777777778, \"#fb9f3a\"], [0.8888888888888888, \"#fdca26\"], [1.0, \"#f0f921\"]], \"type\": \"histogram2dcontour\"}], \"mesh3d\": [{\"colorbar\": {\"outlinewidth\": 0, \"ticks\": \"\"}, \"type\": \"mesh3d\"}], \"parcoords\": [{\"line\": {\"colorbar\": {\"outlinewidth\": 0, \"ticks\": \"\"}}, \"type\": \"parcoords\"}], \"pie\": [{\"automargin\": true, \"type\": \"pie\"}], \"scatter\": [{\"marker\": {\"colorbar\": {\"outlinewidth\": 0, \"ticks\": \"\"}}, \"type\": \"scatter\"}], \"scatter3d\": [{\"line\": {\"colorbar\": {\"outlinewidth\": 0, \"ticks\": \"\"}}, \"marker\": {\"colorbar\": {\"outlinewidth\": 0, \"ticks\": \"\"}}, \"type\": \"scatter3d\"}], \"scattercarpet\": [{\"marker\": {\"colorbar\": {\"outlinewidth\": 0, \"ticks\": \"\"}}, \"type\": \"scattercarpet\"}], \"scattergeo\": [{\"marker\": {\"colorbar\": {\"outlinewidth\": 0, \"ticks\": \"\"}}, \"type\": \"scattergeo\"}], \"scattergl\": [{\"marker\": {\"colorbar\": {\"outlinewidth\": 0, \"ticks\": \"\"}}, \"type\": \"scattergl\"}], \"scattermapbox\": [{\"marker\": {\"colorbar\": {\"outlinewidth\": 0, \"ticks\": \"\"}}, \"type\": \"scattermapbox\"}], \"scatterpolar\": [{\"marker\": {\"colorbar\": {\"outlinewidth\": 0, \"ticks\": \"\"}}, \"type\": \"scatterpolar\"}], \"scatterpolargl\": [{\"marker\": {\"colorbar\": {\"outlinewidth\": 0, \"ticks\": \"\"}}, \"type\": \"scatterpolargl\"}], \"scatterternary\": [{\"marker\": {\"colorbar\": {\"outlinewidth\": 0, \"ticks\": \"\"}}, \"type\": \"scatterternary\"}], \"surface\": [{\"colorbar\": {\"outlinewidth\": 0, \"ticks\": \"\"}, \"colorscale\": [[0.0, \"#0d0887\"], [0.1111111111111111, \"#46039f\"], [0.2222222222222222, \"#7201a8\"], [0.3333333333333333, \"#9c179e\"], [0.4444444444444444, \"#bd3786\"], [0.5555555555555556, \"#d8576b\"], [0.6666666666666666, \"#ed7953\"], [0.7777777777777778, \"#fb9f3a\"], [0.8888888888888888, \"#fdca26\"], [1.0, \"#f0f921\"]], \"type\": \"surface\"}], \"table\": [{\"cells\": {\"fill\": {\"color\": \"#EBF0F8\"}, \"line\": {\"color\": \"white\"}}, \"header\": {\"fill\": {\"color\": \"#C8D4E3\"}, \"line\": {\"color\": \"white\"}}, \"type\": \"table\"}]}, \"layout\": {\"annotationdefaults\": {\"arrowcolor\": \"#2a3f5f\", \"arrowhead\": 0, \"arrowwidth\": 1}, \"coloraxis\": {\"colorbar\": {\"outlinewidth\": 0, \"ticks\": \"\"}}, \"colorscale\": {\"diverging\": [[0, \"#8e0152\"], [0.1, \"#c51b7d\"], [0.2, \"#de77ae\"], [0.3, \"#f1b6da\"], [0.4, \"#fde0ef\"], [0.5, \"#f7f7f7\"], [0.6, \"#e6f5d0\"], [0.7, \"#b8e186\"], [0.8, \"#7fbc41\"], [0.9, \"#4d9221\"], [1, \"#276419\"]], \"sequential\": [[0.0, \"#0d0887\"], [0.1111111111111111, \"#46039f\"], [0.2222222222222222, \"#7201a8\"], [0.3333333333333333, \"#9c179e\"], [0.4444444444444444, \"#bd3786\"], [0.5555555555555556, \"#d8576b\"], [0.6666666666666666, \"#ed7953\"], [0.7777777777777778, \"#fb9f3a\"], [0.8888888888888888, \"#fdca26\"], [1.0, \"#f0f921\"]], \"sequentialminus\": [[0.0, \"#0d0887\"], [0.1111111111111111, \"#46039f\"], [0.2222222222222222, \"#7201a8\"], [0.3333333333333333, \"#9c179e\"], [0.4444444444444444, \"#bd3786\"], [0.5555555555555556, \"#d8576b\"], [0.6666666666666666, \"#ed7953\"], [0.7777777777777778, \"#fb9f3a\"], [0.8888888888888888, \"#fdca26\"], [1.0, \"#f0f921\"]]}, \"colorway\": [\"#636efa\", \"#EF553B\", \"#00cc96\", \"#ab63fa\", \"#FFA15A\", \"#19d3f3\", \"#FF6692\", \"#B6E880\", \"#FF97FF\", \"#FECB52\"], \"font\": {\"color\": \"#2a3f5f\"}, \"geo\": {\"bgcolor\": \"white\", \"lakecolor\": \"white\", \"landcolor\": \"white\", \"showlakes\": true, \"showland\": true, \"subunitcolor\": \"#C8D4E3\"}, \"hoverlabel\": {\"align\": \"left\"}, \"hovermode\": \"closest\", \"mapbox\": {\"style\": \"light\"}, \"paper_bgcolor\": \"white\", \"plot_bgcolor\": \"white\", \"polar\": {\"angularaxis\": {\"gridcolor\": \"#EBF0F8\", \"linecolor\": \"#EBF0F8\", \"ticks\": \"\"}, \"bgcolor\": \"white\", \"radialaxis\": {\"gridcolor\": \"#EBF0F8\", \"linecolor\": \"#EBF0F8\", \"ticks\": \"\"}}, \"scene\": {\"xaxis\": {\"backgroundcolor\": \"white\", \"gridcolor\": \"#DFE8F3\", \"gridwidth\": 2, \"linecolor\": \"#EBF0F8\", \"showbackground\": true, \"ticks\": \"\", \"zerolinecolor\": \"#EBF0F8\"}, \"yaxis\": {\"backgroundcolor\": \"white\", \"gridcolor\": \"#DFE8F3\", \"gridwidth\": 2, \"linecolor\": \"#EBF0F8\", \"showbackground\": true, \"ticks\": \"\", \"zerolinecolor\": \"#EBF0F8\"}, \"zaxis\": {\"backgroundcolor\": \"white\", \"gridcolor\": \"#DFE8F3\", \"gridwidth\": 2, \"linecolor\": \"#EBF0F8\", \"showbackground\": true, \"ticks\": \"\", \"zerolinecolor\": \"#EBF0F8\"}}, \"shapedefaults\": {\"line\": {\"color\": \"#2a3f5f\"}}, \"ternary\": {\"aaxis\": {\"gridcolor\": \"#DFE8F3\", \"linecolor\": \"#A2B1C6\", \"ticks\": \"\"}, \"baxis\": {\"gridcolor\": \"#DFE8F3\", \"linecolor\": \"#A2B1C6\", \"ticks\": \"\"}, \"bgcolor\": \"white\", \"caxis\": {\"gridcolor\": \"#DFE8F3\", \"linecolor\": \"#A2B1C6\", \"ticks\": \"\"}}, \"title\": {\"x\": 0.05}, \"xaxis\": {\"automargin\": true, \"gridcolor\": \"#EBF0F8\", \"linecolor\": \"#EBF0F8\", \"ticks\": \"\", \"title\": {\"standoff\": 15}, \"zerolinecolor\": \"#EBF0F8\", \"zerolinewidth\": 2}, \"yaxis\": {\"automargin\": true, \"gridcolor\": \"#EBF0F8\", \"linecolor\": \"#EBF0F8\", \"ticks\": \"\", \"title\": {\"standoff\": 15}, \"zerolinecolor\": \"#EBF0F8\", \"zerolinewidth\": 2}}}, \"title\": {\"text\": \"Comparaci\\u00f3n M\\u00f3dulo y Divisi\\u00f3n entera\"}},\n",
              "                        {\"responsive\": true}\n",
              "                    ).then(function(){\n",
              "                            \n",
              "var gd = document.getElementById('fb17bf48-0db9-4059-92ee-f62493d699a5');\n",
              "var x = new MutationObserver(function (mutations, observer) {{\n",
              "        var display = window.getComputedStyle(gd).display;\n",
              "        if (!display || display === 'none') {{\n",
              "            console.log([gd, 'removed!']);\n",
              "            Plotly.purge(gd);\n",
              "            observer.disconnect();\n",
              "        }}\n",
              "}});\n",
              "\n",
              "// Listen for the removal of the full notebook cells\n",
              "var notebookContainer = gd.closest('#notebook-container');\n",
              "if (notebookContainer) {{\n",
              "    x.observe(notebookContainer, {childList: true});\n",
              "}}\n",
              "\n",
              "// Listen for the clearing of the current output cell\n",
              "var outputEl = gd.closest('.output');\n",
              "if (outputEl) {{\n",
              "    x.observe(outputEl, {childList: true});\n",
              "}}\n",
              "\n",
              "                        })\n",
              "                };\n",
              "                \n",
              "            </script>\n",
              "        </div>\n",
              "</body>\n",
              "</html>"
            ]
          },
          "metadata": {
            "tags": []
          }
        }
      ]
    },
    {
      "cell_type": "markdown",
      "metadata": {
        "id": "Q8atTazdPAXT"
      },
      "source": [
        "# __2. Variables y expresiones aritméticas__\n",
        "\n",
        ">__Concepto de variable:__\n",
        "\n",
        ">> Una variable es un espacio definido y formateado de almacenamiento en la memoria del sistema de cómputo, que guarda un valor y que se accede mediante un nombre simbólico. \n",
        "- La variable puede recibir un valor diferente en cualquier momento y esta lo mantiene hasta que sea cambiado o que el espacio asignado sea liberado.\n",
        "- Una variable sostiene solamente un valor (el último asignado, los anteriores los olvida)\n",
        "\n",
        "\n",
        "> __Ejemplos de creación y asignación__\n",
        "- Pruebe cada uno de los siguientes bloques de código:\n",
        "\n",
        "``` python\n",
        "# asignación simple\n",
        "total = 0\n",
        "total\n",
        "```\n",
        "``` python\n",
        "# asignación simple\n",
        "PI = 3.1416\n",
        "PI\n",
        "```\n",
        "``` python\n",
        "# asignación simple\n",
        "gravedad = -9.8\n",
        "gravedad\n",
        "```\n",
        "``` python\n",
        "# asignación múltiple\n",
        "a, b, _c = 3, -7.9, 'ucentral'\n",
        "b, a, _c\n",
        "```\n",
        "``` python\n",
        "# asignación múltiple\n",
        "nombre, edad1, edad2, b = \"Juan\", 26, 33, -3\n",
        "nombre, edad2, b, edad1, gravedad\n",
        "```\n"
      ]
    },
    {
      "cell_type": "code",
      "metadata": {
        "id": "ajETYg6DSwJH"
      },
      "source": [
        "# Pruebe la asignación de variables aquí"
      ],
      "execution_count": null,
      "outputs": []
    },
    {
      "cell_type": "markdown",
      "metadata": {
        "id": "o9aUD_bcXXpg"
      },
      "source": [
        "## __Reglas de nombramiento de variables__\n",
        "- Observe las siguientes propiedades en los ejemplos anteriores: \n",
        "    - El nombre comienza por un caracter alfabético o '_'\n",
        "    - La longitud del nombre no importa\n",
        "    - No se puede incluir espacios en el nombre\n",
        "    - Se diferencia entre mayúsculas y minúsculas\n",
        "    - Después del primer caracter se pueden incluir números\n",
        "    - En un ámbito el mismo nombre hace referencia a la misma varible\n",
        "\n",
        "## **Ejemplo**\n",
        "\n",
        "> Ahora, se puede definir los valores de las variables $x, y$ se asigna un valor y se prueba la siguiente ecuación:\n",
        "\n",
        "$$Z = 4x^3y - 2x^2y^2 + 10x y^3 + 5x$$\n",
        "\n",
        "\n",
        ">Es más eficiente utilizar variables que escribir los valores de $x$ y $y$ cada vez que se requiere un valor de la función $Z = f(x,y)$. Determine el valor de $Z$ cuando $x=3.5$ y $y=0.7$, pruebe en un bloque de código:\n",
        "\n",
        "```python\n",
        "x = 3.5\n",
        "y = 0.7\n",
        "Z = 4*x**3*y - 2*x**2*y**2 + 10*x*y**3 + 5*x\n",
        "```\n",
        "\n",
        ">Escriba el código en una celda y compruebe que el resultado debe ser: __137.55__\n",
        "\n",
        "## __Ejercicio__\n",
        "Ahora pruebe con la siguiente ecuación:\n",
        "\n",
        "$$ Z = 4x^2 + 8y^2 - 3xy^2$$\n",
        "\n",
        "\n",
        "\n"
      ]
    },
    {
      "cell_type": "code",
      "metadata": {
        "id": "PKkhvG8Vb8MG"
      },
      "source": [
        "# Use esta celda para el ejemplo y el ejercicio"
      ],
      "execution_count": null,
      "outputs": []
    },
    {
      "cell_type": "markdown",
      "metadata": {
        "id": "advCaBbdcAfL"
      },
      "source": [
        "## __Precedencia de operadores y uso de paréntesis__\n",
        "\n",
        "No todos los operadores tienen la misma jerarquía. La multiplicación, división, módulo y división entera tienen el mismo nivel de precedencia, por otro lado la suma y la resta tienen la misma jerarquía. Pero estos últimos tienen menor precedencia sobre los primeros. Es decir que python hará primero la operación multiplicación y después la suma:\n",
        "\n",
        "## __Ejemplo__\n",
        "\n",
        "```python\n",
        "# No es lo mismo\n",
        "a = 2\n",
        "b = 3\n",
        "c = 5\n",
        "resultado1 = (a * b) + c\n",
        "resultado2 = a * (b + c)\n",
        "# Sin usar parentesis que sucede?\n",
        "resultado3 = a * b + c\n",
        "resultado1, resultado2, resultado3\n",
        "```\n",
        "La recomendación es usar parentesis si no se está seguro. Para profundizar en este tema puede consultar [Precedencia en pyhton](https://www.interactivechaos.com/manual/tutorial-de-python/precedencia-de-operadores)\n",
        "\n",
        ">>__Nota:__ entre operadores que tienen el mismo nivel de precedencia, las operaciones se resuelven de izquierda a derecha\n",
        "\n",
        "## __Ejercicio__\n",
        "\n",
        "- Probar el nivel de precedencia de la potencia frente a la multiplicación y división.\n",
        "\n",
        "```python\n",
        "x = 3\n",
        "y = 2\n",
        "z = 5\n",
        "(x**y)*z \n",
        "x**(y*z)\n",
        "(z/x)**y\n",
        "z/(x**y)\n",
        "```\n",
        "- ¿Cuál es la conclusión respecto a la precedencia?\n",
        "\n",
        "\n"
      ]
    },
    {
      "cell_type": "code",
      "metadata": {
        "id": "oa3sV2D7drLZ"
      },
      "source": [
        "# pruebe en esta celda de código"
      ],
      "execution_count": null,
      "outputs": []
    },
    {
      "cell_type": "markdown",
      "metadata": {
        "id": "y_c8a3MUP3Kx"
      },
      "source": [
        "## __Ejercicios__\n",
        "\n",
        "> Escribir la expresión correcta para cada una de las siguientes ecuaciones:\n",
        "1. $$z = 3x^2y^3 \\frac{2-x}{y-3}$$ <br><br>\n",
        "2. $$z = \\frac{\\frac{1}{x^2}-y^3}{3x+\\frac{3}{4xy}}y$$ <br><br>\n",
        "3. $$z = \\frac{xy^2-2}{\\frac{x}{3}-2y} - 5\\frac{2x/y - 3x^2y^2}{2y-4}\n",
        "$$\n"
      ]
    },
    {
      "cell_type": "markdown",
      "metadata": {
        "id": "IeLQ1lPcdupJ"
      },
      "source": [
        "## __Identificadores__ `%who, %whos` \n",
        "\n",
        "> Para saber que variables están activas en un entorno de ejecución utilice los identificadores `%who, %whos` \n",
        "\n",
        "\n",
        "## __Función__ `del`\n",
        "\n",
        "> La función `del` sirve para eliminar una variable del ambiente de programación\n"
      ]
    },
    {
      "cell_type": "code",
      "metadata": {
        "id": "J8PfyaWAec6e"
      },
      "source": [
        "# pruebe en esta celda de código"
      ],
      "execution_count": null,
      "outputs": []
    },
    {
      "cell_type": "markdown",
      "metadata": {
        "id": "NtJBZ7tWhXVt"
      },
      "source": [
        "# __3. Comentarios__\n",
        "\n",
        "> Existen dos tipos de comentarios que se pueden usar dentro del código, generalmente para propósitos de documentación. Para recordar que hizo al momento de volver sobre el código un tiempo después. \n",
        "- __Comentarios de línea__\n",
        "    - Use el caracter almohadilla `#` al inicio o en cualquier parte de la línea. Se activa el modo comentario hasta el fin de esta línea\n",
        "- __Comentarios multilínea__\n",
        "    - Use triple comillas dobles `\"\"\"` o sencillas `'''` para inciar un bloque de comentarios de múltiples líneas. Cuando termine, cierre el comentario con los mismos símbolos\n",
        "\n",
        "\n",
        "## __Ejemplo:__\n",
        "\n",
        "\n",
        "```python\n",
        "# Esto tiene formato de código\n",
        "# y estas líneas son comentarios\n",
        "\"\"\" cuando se quieren comentarios de\n",
        "    varias líneas en un bloque de código\n",
        "    se pueden usar comillas dobles\n",
        "\"\"\"\n",
        "x = (5)**3  # hallar el valor de cinco al cubo\n",
        "\n",
        "```\n"
      ]
    },
    {
      "cell_type": "code",
      "metadata": {
        "id": "qLdGBkTrjNE6"
      },
      "source": [
        "# pruebe aquí los comentarios"
      ],
      "execution_count": null,
      "outputs": []
    },
    {
      "cell_type": "markdown",
      "metadata": {
        "id": "KFjdgReEy_9V"
      },
      "source": [
        "# __4. Entrada y salida básica__"
      ]
    },
    {
      "cell_type": "markdown",
      "metadata": {
        "id": "WkEoTWQcQDd_"
      },
      "source": [
        "## __Función `print()`__\n",
        "Es posible que haya notado que el notebook automaticamente imprime la última operación o la variable que se escriba en la línea final. Pero si se quiere imprimir varias veces y en diferentes partes de en un segmento de código, entonces se puede usar la función __print()__ o alternativamente la función __display()__ o __repr()__. \n",
        "\n",
        "> __Nota__ Existen caracteres especiales dentro de las cadenas como la barra invertida: `\\ `. En la función _print_ es utilizado para imprimir tabulaciones `\\t`, fin de línea `\\n` y otros caracteres de formato\n",
        "\n",
        ">## __Ejemplo__\n",
        "Observe y prube las diferentes formas de imprimir con la función __print()__:\n",
        "\n",
        "```python\n",
        "print() # imprime línea en blanco\n",
        "\n",
        "x =  -256/117\n",
        "print(x) # imprime valor de x, además del cambio de línea\n",
        "# print recibe multiples parámetros e imprime cada uno\n",
        "print(x, 'al cuadrado es', x**2) # dentro de print se pueden hacer operaciones\n",
        "\n",
        "y = 12.5\n",
        "print('x:', x, 'y:', y, '\\tpromedio:', (x+y)/2, '\\tproducto:', x*y) # imprime 8 veces en la misma línea \n",
        "# observe que al final la función print imprime una cambio de línea\n",
        "\n",
        "a = 1\n",
        "b = 22\n",
        "c = 333\n",
        "d = 4444\n",
        "print(a,'\\n',b,'\\n',c,'\\n',d) # imrpimir valores en cada linea\n",
        "```\n",
        "\n",
        "Se recomienda revisar algo más de documentación para el manejo de la función print en el siguiente enlace: [Print Function](https://realpython.com/python-print/)\n",
        "\n",
        "\n",
        "\n"
      ]
    },
    {
      "cell_type": "code",
      "metadata": {
        "id": "f5gQBYGezKJ7"
      },
      "source": [
        "# Pruebe en esta celda de código"
      ],
      "execution_count": null,
      "outputs": []
    },
    {
      "cell_type": "markdown",
      "metadata": {
        "id": "0hQCh69yzP4L"
      },
      "source": [
        "## __Función `input()`__\n",
        "\n",
        "Es usual que programa requiera interactuar con la persona que ejecuta el programa. Esto hace que el programa sea más fácil de usar y más flexible. Una forma de __interrumpir__ el programa para solicitar información al usuario desde la *consola de texto$^1$* es usando la función __input()__:\n",
        "\n",
        "\n",
        "```python\n",
        "# leer de la consola y guardar en la variable valor\n",
        "valor = input('Ingrese un valor entero positivo:')\n",
        "\n",
        "# imprimir el tipo que recibe y el valor\n",
        "print('tipo: ', type(valor), 'contenido:', valor)\n",
        "\n",
        "```\n",
        "\n",
        ">El siguiente bloque de código produce un error, por que es necesario convertir el valor de entrada para que se pueda usar en operaciones aritméticas. Por ejemplo:\n",
        "\n",
        "```python\n",
        "# solicite al usuario ingresar un valor real por la consola de texto\n",
        "valor2 = input('Ingrese un valor real positivo (por ejemplo 0.25):')\n",
        "# observe el tipo de dato \n",
        "print('tipo: ', type(valor2), 'contenido:', valor2)\n",
        "# intente operar con el valor obtenido\n",
        "area = valor2 * valor2\n",
        "print('area = ', area)\n",
        "```\n",
        ">__Nota$^1$:__ En el notebook la consola de texto es el espacio de resultados que aparece cuando se ejecuta la celda. Pro fuera del notebook un programa python se puede ejecutar desde una consola de comandos.  \n",
        "\n"
      ]
    },
    {
      "cell_type": "code",
      "metadata": {
        "id": "VrFVHKP68_c9"
      },
      "source": [
        "# Pruebe en esta celda de código"
      ],
      "execution_count": null,
      "outputs": []
    },
    {
      "cell_type": "markdown",
      "metadata": {
        "id": "1L0wd2r81eMK"
      },
      "source": [
        "# __5. Tipos de datos__\n",
        "\n",
        "> Los tipos de datos básicos que se tienen disponibles en python son:\n",
        "* Numéricos: \n",
        "    - Valores enteros positvos y negativos (por omisión de 64 bits)\n",
        "    - Valores reales, que tienen una expansión de decimales.\n",
        "* Lógicos: Son aquellas variables que solo pueden tomar por valor verdadero `True` o falso `False`.\n",
        "* Cadenas de texto: Variables que pueden almacenar un conjunto de caracteres de texto. La cantidad de caracteres es desde cero hasta lo máximo permitido por la memoria del sistema de cómputo.\n",
        "* Objetos: En general python maneja todas las variables como si fueran objetos$^1$. Los objetos tienen atributos y métodos, es decir que vienen con una serie de funciones específicas para cada tipo de dato. \n",
        "\n",
        "\n",
        "> A diferencia de otros lenguajes de programación como C o Java que son fuertemente tipados, Python es un lenguaje de programación de **tipado dinámico**. Esto quiere decir que si una variable ha sido declarada en este lenguaje, en cualquier momento usted podrá cambiarle el tipo sin ninguna restricción.\n",
        "\n",
        "> Lo anterior quiere decir que Python no le exige que defina el tipo de dato de la variable. La asignación del tipo es dinámica y se configura de manera automática. Sin embargo, siempre es posible validar el tipo de dato asignado.\n",
        "\n",
        "Para profundizar sobre los tipos de datos que maneja Python u obtener documentación se recomienda el siguiente enlace: [Python Data Types](https://docs.python.org/3/library/datatypes.html)\n",
        "\n",
        "## __Función `type()`__\n",
        "- Para conocer el tipo de dato asociado a una variable en un momento determinado, use la función `type(variable)` con el nombre de la variable.\n",
        "\n",
        ">## __Ejemplo__\n",
        "```python\n",
        "w, x, y, z = -22, 2.7181, 'super', False\n",
        "print(w, '\\t', type(w), '\\n', x, '\\t', type(x))\n",
        "print(y, '\\t', type(y), '\\n', z, '\\t', type(z))\n",
        "```\n",
        "\n",
        "\n"
      ]
    },
    {
      "cell_type": "code",
      "metadata": {
        "id": "P6LbdcAn9IZb"
      },
      "source": [
        "# Pruebe en esta celda de código"
      ],
      "execution_count": null,
      "outputs": []
    },
    {
      "cell_type": "markdown",
      "metadata": {
        "id": "HJ1DAb1t-E1-"
      },
      "source": [
        "## __Funciones de conversión__ `int(), float(), str()`\n",
        "> - Hay gran cantidad de ocasiones en las que es necesario realizar una conversión de un tipo de dato a otro. Las razones pueden ser varias, por ejemplo:\n",
        "    - Si se necesita realizar una operación aritmética, pero alguna de las variables es de tipo cadena de caracteres. Aquí se puede usar `float(variable) o int(variable)` sgún convenga\n",
        "    - Si se requiere hacer una impresión de un valor numérico pero la función que despliega el texto solo acepta variables de tipo cadena de caracterés\n",
        "    - Cuando se pide un valor numérico, pero la función devuelve una cadena. Como es el caso de `input()`, entonces para convertir use `float(_) o int(_)`\n",
        "\n",
        "## __Ejemplo__\n",
        "Se quiere calcular el valor de una función cuadrática $y = 2x^2-5x+4$\n",
        "de tal forma que hay preguntar por el valor de $x$ y reemplazarlo en la ecuación e imprimir el valor\n",
        "\n",
        "\n",
        "```python\n",
        "x = input('Ingrese el valor de x para calcular la ecuación:')\n",
        "print(type(x))\n",
        "# es necesario convertir a x en un valor numérico antes de evaluar la ecuación\n",
        "float_x = float(x)\n",
        "# la siguiente línea produce un error\n",
        "y = 2*x**2 - 5*x + 4\n",
        "# ponga un comentario a la línea anterior y\n",
        "# vuelva a ejecutar el código\n",
        "y = 2*float_x**2 - 5*float_x + 4\n",
        "print('El resultado es:', y)\n",
        "\n",
        "```\n",
        "\n"
      ]
    },
    {
      "cell_type": "code",
      "metadata": {
        "id": "A2KS13JoANpK"
      },
      "source": [
        "# pruebe en esta celda de código "
      ],
      "execution_count": null,
      "outputs": []
    },
    {
      "cell_type": "markdown",
      "metadata": {
        "id": "8IKY7gk6Bt02"
      },
      "source": [
        "## __Formato en cadenas de texto__\n",
        "\n",
        "- La función *print()* imprime series de parámetros en las cuales se pueden usar tabulaciones y cambios de línea. También es posible poner formato a los valores numéricos. Usando:\n",
        "    - `%d` para variables enteros\n",
        "    - `%f` para variables reales de punto flotante\n",
        "    - `%s` para variables de cadenas de texto\n",
        "\n",
        "## __Ejemplo:__\n",
        "\n",
        "1. Pruebe el siguiente bloque de código y analice las diferencias\n",
        "\n",
        "```python\n",
        "\n",
        "#agregar un poco de formato para alinear los valores en la presentación\n",
        "a, b, c, d = 1, 22, 333, 4444\n",
        "print('Impresión normal      \\n a = %d  \\n b = %d  \\n c = %d  \\n d = %d'%(a,b,c,d))\n",
        "print('Impresión con ceros   \\n a = %05d\\n b = %05d\\n c = %05d\\n d = %05d'%(a,b,c,d))\n",
        "print('Impresión con espacios\\n a = %5d \\n b = %5d \\n c = %5d \\n d = %5d'%(a,b,c,d))\n",
        "```\n",
        "2. Ejemplo con números de punto flotantes\n",
        "\n",
        "\n",
        "```python\n",
        "f, g = 3.141516, 0.25\n",
        "print('f = %1.4f\\ng = %1.4f'%(f, g))\n",
        "print('f = %e\\ng = %e'%(f, g))\n",
        "```\n",
        "\n",
        "- Consulte otras alternativas para dar formato a la impresión en [formato](https://python-para-impacientes.blogspot.com/2017/02/las-cadenas-f.html)"
      ]
    },
    {
      "cell_type": "markdown",
      "metadata": {
        "id": "PDS4QVCcDPGg"
      },
      "source": [
        "## __Personalizar la impresión__\n",
        "\n",
        "> Cuando se quiere tener control de como se imprime, hay que tener en cuenta varios puntos:\n",
        "- La función *print* imprime un fin de línea al final. Esto se puede evitar\n",
        "- Al final de la cadena se puede especificar un conjunto de variables usando el __%__\n",
        "- La cadena puede iniciar con *f*, y la varaibles entre llaves\n",
        "- Utilizar la función *format* de *print* para personalizar las salidas\n",
        "- Use los operadores suma y multiplicación\n",
        "\n",
        "Ejemplos:\n",
        "\n",
        "```python\n",
        "x = 143.92\n",
        "cadena = '-'*30 + 'hola' + '-'*30 + str(x*5)\n",
        "print(cadena)\n",
        "```\n",
        "\n",
        "\n",
        "\n"
      ]
    },
    {
      "cell_type": "code",
      "metadata": {
        "id": "6Rs6BgRwDPQi"
      },
      "source": [
        "# pruebe en esta celda de código "
      ],
      "execution_count": null,
      "outputs": []
    },
    {
      "cell_type": "markdown",
      "metadata": {
        "id": "m-ewnRORmNmz"
      },
      "source": [
        "# __Ejercicios de lógica__\n",
        "\n",
        "\n",
        "> # Carrera de autos\n",
        ">> En la copa mundo de automivilismo participaron corredores de Francia, Italia, México, EEUU y Holanda. \n",
        "1. El mexicano llegó 2 lugares atrás que el italiano. \n",
        "2. El francés no ganó, pero tampoco llegó en último lugar. \n",
        "3. El holandés ocupó un lugar después que el estadounidense. \n",
        "4. Este último no llegó en primer lugar. \n",
        ">\n",
        "> Determine en qué lugar llegó cada corredor? \n",
        "\n",
        "\n",
        "[//]: <> (1- Italia, 2- Francia, 3- México, 4- EEUU, 5- Holanda )\n",
        "\n",
        "> # Refrescos\n",
        "- <p>Luego de jugar fútbol por la tarde, Eduardo, Miguel, Alfredo, Fredy, Héctor y Braulio comprarían refrescos en la tienda, pero solo habían los siguientes refrescos: una Coca-Cola normal, una Coca-Cola Dietética, una Naranja Postobon, una Manzana Postobon, un Hit-TutiFrutti y una Pepsi-Cola. Se sabe que:</p> <ol> <li><span style=\"font-size: 1em;\">Uno de los jóvenes se adelantó a Fredy, a Eduardo y a Miguel y les ganó la Coca-Cola</span></li> <li><span style=\"font-size: 1em;\">Alfredo, Fredy e Héctor le hicieron bromas al que tomó la Pepsi-Cola</span></li> <li><span style=\"font-size: 1em;\">Braulio está a dieta</span></li> <li><span style=\"font-size: 1em;\">Eduardo y el que tomó la Naranja Postobon le preguntaron a Alfredo por qué no podía tomar bebidas gaseosas</span></li> <li><span style=\"font-size: 1em;\">Ni a Fredy ni a Héctor les gustan los refrescos con sabor a naranja.</span></li> </ol> <p>De acuerdo a lo anterior ¿Qué bebida tomó cada uno?</p>\n",
        "\n",
        "\n",
        "\n",
        "> # Promedio de los hijos de Marcela\n",
        ">> Marcela tiene cuatro hijos Santiago, Fabio, Camilo y David, pero en el colegio son más conocidos por sus apodos: 'gordo', 'palo', 'nano' y 'robin'. \n",
        "1. Se sabe que: 'palo' tiene el promedio más alto de los cuatro y\n",
        "2. Camilo ayuda a 'robin' en sus tareas. \n",
        "2. Por otro lado, 'nano' tiene un promedio de calificaciones inferior al de Camilo y 'robin'. \n",
        "3. El promedio de calificaciones de 'gordo' excede en 5 decimas al de Santiago. \n",
        "4. Santiago y David son los extremos en cuanto a promedio de calificaciones se refiere.\n",
        ">\n",
        "> Ordene a los hijos de Marcela de mayor a menor según el promedio e identifique los apodos de cada uno.\n",
        "\n",
        "[//]: <> (David, palo; Camilo, gordo; Fabio, robin; Santiago, nano)\n",
        "[//]: <> (David, palo; Fabio, robin; Camilo, gordo; Santiago, nano)\n",
        "\n",
        "> # Cantidad de especies de aves\n",
        "> El <em>Centro de monitoreo de conservación mundial</em> ha establecido el número de especies de aves que hay por país, y ha encontrado que:\n",
        "1. el número de especies de aves de México es menor al de Ecuador. \n",
        "2. De manera similar ha establecido que el número de especies de aves de Guyana es la mitad del de Ecuador; \n",
        "3. además, ha indicado que Colombia tiene una cantidad de especies de aves que se aproxima a la suma del número de especies de aves de México y Guyana, \n",
        "4. y que dicho valor es mayor al número de especies de Ecuador. \n",
        ">\n",
        "> De acuerdo con el enunciado, seleccione las afirmaciones que considere correctas\n",
        "- Del texto se deduce que Colombia tiene el doble de aves que Ecuador \n",
        "[//]: <> (Colombia si es superior a Ecuador en número de aves, pero no alcanza para ser el doble)\n",
        "- Se puede afirmar que Guyana tiene un número mayor de aves que México \n",
        "[//]: <> (No es correcto, puesto que 2 veces las aves de Guyana es Menor que las aves de Guyana mas las de México)\n",
        "- Se puede deducir que 2 veces las aves de Guyana es mayor que la cantidad de aves de México. \n",
        "[//]: <> (Es cierto, por que la cantidad de aves de Ecuador, que es igual a 2 veces Guyana es mayor que México)\n",
        "- La cantidad de aves de Colombia es menor que la Cantidad de aves de Guyana más las aves de Ecuador \n",
        "[//]: <> (Es cierto, puesto que la cantidad de aves de México es menor que las de Ecuador)\n",
        "\n",
        "> # Flores en el día de la madre\n",
        "> Ricardo, Daniel y Paco obsequiaron a su respectiva madre una flor diferente en un florero de distinto color.\n",
        "1. Daniel no regaló la flor en el florero azul, ni tampoco Ricardo.\n",
        "2. El clavel estaba en el florero blanco.\n",
        "3. A Paco no le gustan las rosas y Ricardo no pudo conseguirlas. \n",
        "[//]: <> (Cambiar rosas por geranios)\n",
        "4. El geranio estaba en el florero rojo.\n",
        ">\n",
        "> ¿qué flor regalo cada uno y en qué florero?\n",
        "\n",
        "> # Homenaje a los medallistas\n",
        "> Cinco deportistas olímpicos colombianos llamados Betty, Esteban, Claudia, Andrea y Dario han sido invitados a un evento organizado por el gobierno para rendirles un homenaje. Estos deportistas durante su carrera han participado en varios juegos internacionales y han ganado muchas medallas de oro para Colombia. Para saber cuántas medallas de oro han ganado cada uno de los deportistas invitados, se tiene la siguiente información: \n",
        "1. Se sabe que Dario ha conseguido 10 medallas. \n",
        "2. Las medallas que tiene Claudia son menos que las que suman Andrea y Betty, pero son más de las que suman Dario y Betty.  \n",
        "3. Por su parte, Andrea tiene el doble de medallas que tiene Betty, pero menos del doble de las que tiene Dario.  \n",
        "4. Finalmente, Esteban tiene la misma cantidad de medallas que suman Dario y Betty. \n",
        ">\n",
        "> Seleccione las afirmaciones que considere correctas:\n",
        "- Se puede afirmar que Esteban tiene más medallas que Andrea y que Claudia \n",
        "[//]: <> (No es correcto, Esteban tiene más medallas que Andrea pero menos que Claudia)\n",
        "- Es posible que Andrea tenga la misma cantidad de medallas que Dario \n",
        "[//]: <> (No es posible, Puesto que Claudia no puede tener más de 15 medallas y al mismo tiempo tener menos de 15 medallas)\n",
        "- Esteban tiene más medallas que Andrea (Es correcto porque Dario + Betty suman más que dos veces Betty.)\n",
        "- Según la información, Andrea tiene 18 medallas como máximo \n",
        "[//]: <> (Es correcto,  puesto que Andrea tiene menos del doble de Dario y tiene el doble de las de Betty, la cual cómo máximo tiene 9 medallas)\n",
        "- Según las afirmaciones, es posible que alguna pareja de deportistas tenga la misma cantidad de medallas \n",
        "[//]: <> (No es posible dadas las restricciones de mayor y menor que hay en el enunciado y que los valores de medallas deben ser enteros)\n",
        "- Analizando las afirmaciones, no es posible que Andrea tenga 12 medallas \n",
        "[//]: <> (La afirmación no es correcta, puesto que todas las afirmaciones se cumplen si Andrea tiene 12 medallas)\n",
        "- Se puede concluir de las afirmaciones, que Esteban tiene mínimo 16 medallas y máximo 19 medallas \n",
        "[//]: <> (Es correcto, si se tiene en cuenta la cantidad de medallas que puede tener Betty y sabiendo que Esteban tiene las medallas de Dario mas las de Betty.)\n",
        "- La diferencia de medallas entre Claudia y Betty son menos de 18 \n",
        "[//]: <> (Es correcto,  puesto que el máximo de medallas de Betty es 9. Por tanto Claudia tiene un valor menor a 2 veces las de Betty)\n",
        "\n",
        "\n",
        "> # Deportistas de la U Central\n",
        "> Estudiantes de la universidad Central llamados Andrés, Javier, Cesar y Duván, representan a la institución en campeonatos de diferentes deportes a nivel nacional. <ol> <li>Uno de los deportistas es muy introvertido, por tanto no tiene amigos y no práctica deportes de conjunto, situación muy diferente para el futbolista que es amigo de casi todos en el campeonato nacional</li> <li>Por otro lado, Andrés y Duván estaban jugando vóleibol cuando el ajedrecista quedó campeon nacional</li> <li>Cesar y el basquetbolista nacional entrenan Rugby mientras Andrés aprende a Jugar golf</li> <li>El boxeador antes de ser campeón nacional le pedía a Andrés que fuera su oponente de entrenamiento</li> </ol>\n",
        ">\n",
        "> Identifique con cual disciplina cada uno de estos estudiantes representa a la universidad y señale de las siguientes afirmaciones las que considere correctas:\n",
        "- Cesar, Andrés y Duván son amigos \n",
        "[//]: <> (Correcto, dadas las afirmaciones 2, 3 y 4)\n",
        "- Javier y Cesar estuvieron practicando boxeo juntos \n",
        "[//]: <> (No es cierto, Por la afirmación 1 y 4, Javier no practicó boxeo.)\n",
        "- Según el texto, el jugador de Golf representa a la universidad jugando fútbol \n",
        "[//]: <> (Cierto, con las afirmaciones 2, 3 y 4 es claro que Andrés es el futbolista)\n",
        "- Del texto se puede deducir que había un estudiante que prácticaba vóleibol y rugby \n",
        "[//]: <> (Cierto, se refieren al basketbolista)\n",
        "\n",
        "\n",
        "> # El origen de los escritores\n",
        "> <p><span>David, Pipe y Germán son escritores que nacieron en diferentes países. </span>Se sabe que:</p> <ol> <li><span>Actualmente cada escritor reside en su país de nacimiento y solo viajan con vuelos directos</span></li> <li><span>David voló a Colombia a la misma hora que el español voló a Japón.</span></li> <li><span>El dominicano voló a Francia mientras David voló a Marruecos.</span></li> <li><span>Pipe es el único que conoce España, el argentino toma vino en Chile. </span></li> </ol> <p><span>Dado este enunciado, señale de las siguientes afirmaciones las que considere correctas</span></p></p>\n",
        ">\n",
        ">- Se puede asegurar que David ha volado a Argentina \n",
        "[//]: <> (Correcto, debe haber volado a su País de origen)\n",
        "- Pipe puede ser japones, dominicano o español \n",
        "[//]: <> (Si Pipe no es argentino, puede ser dominicano o español)\n",
        "- Germán y David no han volado desde Marruecos a España \n",
        "[//]: <> (Cierto, pues ambos no conocen España)\n",
        "- Germán o David están tomando vino en Chile \n",
        "[//]: <> (No es correcto, todos están en su pais de origen)\n",
        "[//]: <> \n",
        "\n",
        "\n",
        "\n",
        "\n",
        "\n",
        "> # Profesiones entre amigas\n",
        "> - Bárbara, Daniela y Adriana tienen cada una 2 oficios. Sus ocupaciones son: Secretaria, Estilista, Vendedora de perfumes, Mesera, Recepcionista y Entrenadora. Se sabe que ninguna de ellas repite ocupación. Se tienen las siguientes afirmaciones a considerar:</p> <ol> <li>Adriana y Daniela juegan tenis cada sábado con la entrenadora</li> <li>Daniela es la mejor cliente de la vendedora</li> <li>La secretaria es la novia del hermano de la entrenadora</li> <li>La mesera y la vendedora de perfumes se reúnen con frecuencia en la casa de Barbara</li> <li>La entrenadora le debe $50.000 pesos a la estilista</li> <li>La secretaria y la mesera fueron compañeras de primaria</li> </ol> \n",
        ">\n",
        "> Determine cuáles de las siguientes afirmaciones considera correctas:\n",
        "- Las señoritas que estudiaron juntas en la primaria reciben lecciones de tenis \n",
        "[//]: <> (Correcto, Puesto que Adriana y Daniela son las señoritas que estudiaron juntas)\n",
        "- Barbara no es ni estilista ni mesera \n",
        "[//]: <> (Correcto, Daniela cubre esas profesiones)\n",
        "- La secretaria es Daniela o Barbara \n",
        "[//]: <> (No es correcto, la secretaria es Adriana)\n",
        "- La entrenadora vende perfumes o arregla el cabello \n",
        "[//]: <> (No es correcto, la otra profesión es Recepcionista)\n",
        "\n",
        "\n",
        "> # Quién es el asesino\n",
        "> Goyo fue encontrado una mañana muerto en un arroyo de un balazo y la policía detuvo a 3 sospechosos: Bananas, Nene, y Gallinazo. En la mañana los tres fueron interrogados y declararon lo siguiente:<br>\n",
        "Bananas:\n",
        "1. Yo no lo maté.\n",
        "2. Yo nunca había visto al Nene antes.\n",
        "3. Es cierto, yo conocí a Goyo.\n",
        ">\n",
        "> Nene:\n",
        "1. Yo no lo maté.\n",
        "2. Bananas y Gallinazo son mis amigos.\n",
        "3. Bananas nunca a matado a alguien.\n",
        ">\n",
        "> Gallinazo:\n",
        "1. Yo no lo maté\n",
        "2. Bananas miente cuando dice que no había visto a Nene antes.\n",
        "3. Yo no se quién lo mató\n",
        "\n",
        "Si solo una información dada de cada sospechoso es falsa y uno de los tres es culpable. ¿quién es el asesino?"
      ]
    }
  ]
}
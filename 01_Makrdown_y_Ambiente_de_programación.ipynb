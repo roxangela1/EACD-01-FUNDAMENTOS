{
  "nbformat": 4,
  "nbformat_minor": 0,
  "metadata": {
    "colab": {
      "name": "01_Makrdown_y_Ambiente_de_programación.ipynb",
      "provenance": [],
      "include_colab_link": true
    },
    "kernelspec": {
      "name": "python3",
      "display_name": "Python 3"
    },
    "language_info": {
      "name": "python"
    }
  },
  "cells": [
    {
      "cell_type": "markdown",
      "metadata": {
        "id": "view-in-github",
        "colab_type": "text"
      },
      "source": [
        "<a href=\"https://colab.research.google.com/github/roxangela1/EACD-01-FUNDAMENTOS/blob/master/01_Makrdown_y_Ambiente_de_programaci%C3%B3n.ipynb\" target=\"_parent\"><img src=\"https://colab.research.google.com/assets/colab-badge.svg\" alt=\"Open In Colab\"/></a>"
      ]
    },
    {
      "cell_type": "markdown",
      "metadata": {
        "id": "c8bmRTxI6JIQ"
      },
      "source": [
        "![Universidad Central](https://www.ucentral.edu.co/sites/default/files/inline-images/identificadores-Centrados_en_ti_logo-h.png)"
      ]
    },
    {
      "cell_type": "markdown",
      "metadata": {
        "id": "8CKR9gpi6PTm"
      },
      "source": [
        "# __CURSO DE PROGRAMACIÓN PARA ANALÍTICA DE DATOS__ <br><br>\n",
        "\n",
        "> ## __TALLER N° 1:  MARKDOWN Y AMBIENTE DE PROGRAMACIÓN *PYTHON*__ <br><br>\n",
        ">\n",
        "> ## Profesor: Jorge Victorino [jvictorinog@ucentral.edu.co](jvictorinog@ucentral.edu.co)<br>\n",
        "> ### Facultad de Ingeniería y Ciencias Básicas <br>\n",
        "> ### Universidad Central <br>\n",
        "> <br>\n",
        ">\n",
        "> ## __Contenido__\n",
        ">> ### ¿Por qué programar?\n",
        ">> ### ¿Por qué _python_?\n",
        ">> ### Ambiente de programación\n",
        ">> ### Instalar _Jupyter python_\n",
        ">> ### Markdown básico\n",
        "\n",
        "***"
      ]
    },
    {
      "cell_type": "markdown",
      "metadata": {
        "id": "w3pCvB5GygIm"
      },
      "source": [
        "# __¿Por qué programar?__\n",
        "> - Programar ayuda a lograr una comunicación directa con el ambiente tecnológico que nos rodea. \n",
        "- Programar provee una nueva forma de comprender cómo funciona todo a nuestro alrededor.\n",
        "- Programar permite explotar las habilidades creativas, ejercitar el cerebro pensando de manera lógica. \n",
        "- Programar es una herramienta del pensamiento que permite abstraer, desarrollar la imaginación, fortalecer la capacidad analítica.\n",
        "- Programar es un método para solucionar problemas, principalmente situaciones de lógica e ingenio. \n",
        "- Saber de programación elimina la limitación de depender de una solución que no se adapta a las necesidades. \n",
        "- Programar representa una habilidad importante para la hoja de vida que abre muchas puertas, como lo es el inglés.\n",
        "\n",
        "\n",
        "\n",
        "\n"
      ]
    },
    {
      "cell_type": "markdown",
      "metadata": {
        "id": "90ItdkglxbYD"
      },
      "source": [
        "# __¿Por qué python?__\n",
        "\n",
        "> - Ejemplo [Librerías de python más populares](https://www.crehana.com/co/blog/web/librerias-python/)\n",
        "- Demo\n",
        "\n",
        "\n",
        "\n",
        "\n",
        "\n",
        "\n",
        "\n"
      ]
    },
    {
      "cell_type": "markdown",
      "metadata": {
        "id": "JJd9ZAQ7x8Oh"
      },
      "source": [
        "#__Ranking de lenguajes de programación__\n",
        "\n",
        "![](https://www.breakingnewsandarticle.com/wp-content/uploads/2021/06/Tiobe-programming.png)\n",
        "<br>\n",
        "fuente: braking News & Article (2021)\n"
      ]
    },
    {
      "cell_type": "markdown",
      "metadata": {
        "id": "k1vrSnAlxzdB"
      },
      "source": [
        "#__Ranking de lenguajes de programación__\n",
        "\n",
        "![ranking](https://www.programmersought.com/images/492/00143cf6e12a7dc7cdff58a6354d90d4.JPEG)\n",
        "<br>\n",
        "fuente: Programmer Sought (2021)\n"
      ]
    },
    {
      "cell_type": "markdown",
      "metadata": {
        "id": "YQjyxJXQxsdK"
      },
      "source": [
        "#__Ranking de lenguajes de programación para ciencia de datos__\n",
        "\n",
        "![ranking](http://businessoverbroadway.com/wp-content/uploads/2019/01/programming_languages_used.png)\n",
        "<br>\n",
        "fuente: Business Broadway (2021)\n"
      ]
    },
    {
      "cell_type": "markdown",
      "metadata": {
        "id": "LpKzfFr_xkHZ"
      },
      "source": [
        "## __Ventajas de uso de Google Colab__\n",
        "> El taller esta construido sobre la tecnología de los cuadernos de programación (notebooks) que se han implementado para varios lenguajes de programación. Estos cuadernos permiten integrar un editor de texto enriquecido con múltiples bloques de código que al ejecutarse generan bloques de resultados. <br>\n",
        "El material cuenta con las siguientes ventajas:\n",
        "> - Los cuaderno tienen celdas de texto enriquecido, código y resultado\n",
        "- El cuaderno es una herramienta que sirve como un laboratorio con múltiples celdas de prueba. El estudiante puede reforzar su aprendizaje con el cuaderno de manera autónoma y asíncrona. \n",
        "- Cada estudiante va a su ritmo haciendo énfasis en donde presenta mayores dificultades y avanzando rápidamente en los temas que se le fascilitan. \n",
        "- En los cuadernos también es posible traer ejemplos que observó en internet o en un libro, y ejecutarlos también.\n",
        "- Los cuadernos tienen la ventaja de tener un ambiente de programación completamente integrado y múltiples elementos de edición. \n",
        "- Los resultados se pueden visualizar como gráficas, mapas, imágenes, tablas, animaciones, gráficas interactivas, interfaces gráficas y muchas cosas más que sean compatibles con html.\n",
        "- Los cuadernos se pueden utilizar directamente desde el Google-Drive, con todas las ventajas que esto implica:\n",
        "    - Almacenamiento en la nube\n",
        "    - Autoguardado\n",
        "    - Trabajo colaborativo, los cuadernos se comparten en línea\n",
        "    - Procesamiento en la nube\n",
        "    - No se requiere de ningún proceso de instalación, esta disponible desde el momento cero\n",
        "    - Se puede ejecutar desde cualquier máquina y cualquier sistema operativo \n",
        "    - Se puden usar directamente datos de la Web\n",
        "    - Además de todas las ventajas de programar en pyhton al día de hoy"
      ]
    },
    {
      "cell_type": "markdown",
      "metadata": {
        "id": "O3-l1Grz4qei"
      },
      "source": [
        "# __Ambiente de programación__\n",
        "\n",
        ">Los tutoriales del curso están escritos en **Cuadernos** (Notebook) de *Python*. El cuaderno es proporcionado por el software Anaconda usando un módulo llamado *Jupyter* o por *Google Drive* mediante una aplicación llamada **Colaboratory**. El  **Cuaderno** tiene tres componentes o tres tipos de celda CODE, TEXT y OUTPUT. \n",
        "* TEXT0: espacio para escribir texto con formato, es posible agregar fórmulas, imágenes, tablas, entre otros muchos elementos. Ideal para documentar los trabajos y reportar resultados.\n",
        "* CÓDIGO: espacio para escribir un programa usando el lenguaje de python\n",
        "* RESULTADO: este espacio se genera debajo de un componente de código, cuando este último se ejecuta. Muestra los resultados del programa o los errores en dado caso. Los resultados de la ejecución pueden ser numéricos, texto, gráficas, imágenes, etc.\n",
        "\n",
        "## Antes de comenzar\n",
        ">- Configure el entorno de programación\n",
        "    - El tema (oscuro, claro)\n",
        "    - En el editor: \n",
        "        - Cantidad de espacios de tabulación\n",
        "        - Active los números de línea\n",
        "        - Active otras opciones que considere importantes\n",
        "- Familiaricese con el entorno de programación\n",
        "    - Elementos del entorno (esquema, archivos, panel, menú)\n",
        "    - Abreviaciones de teclado\n",
        "\n",
        ">Para información de referencia en elementos básicos del lenguaje visite: [Covantec cap3](https://entrenamiento-python-basico.readthedocs.io/es/latest/leccion3/) o más información de otros elementos: [Aquí](https://entrenamiento-python-basico.readthedocs.io/es/latest/)\n",
        "\n",
        "\n",
        "\n"
      ]
    },
    {
      "cell_type": "markdown",
      "metadata": {
        "id": "ALLICbjDJcKd"
      },
      "source": [
        "# __Instalar Jupyter python__\n",
        "\n",
        "> - __*python :*__ es lenguaje de programación. Este es independiente de los programas y aplicaciones\n",
        "> - __Jupyter :__ La aplicación de Jupyter permite ejecutar código python en los cuadernos de programación (notebook). \n",
        "> - __Anaconda :__ Es una aplicación de administración de ambientes de programación. Al instalar Anaconda en su sistema operativo, instala automáticamente una versión de python y de jupyter. \n",
        "\n",
        "> - Para ver un tutorial de instalación [anaconda](https://www.youtube.com/watch?v=N_1VQ3Myuog&ab_channel=MyLoVoiD)\n"
      ]
    },
    {
      "cell_type": "markdown",
      "metadata": {
        "id": "joYuioEDNl4M"
      },
      "source": [
        ""
      ]
    },
    {
      "cell_type": "markdown",
      "metadata": {
        "id": "NsRWr1QA7zPz"
      },
      "source": [
        "# __INTRODUCCIÓN A MARKDOWN__\n",
        "\n",
        "A continuación se muestran diferentes ejemplos del uso del lenguaje de __markdown__ para los notebooks de **python**. El ejercicio consiste en ingresar a cada celda en mode de edición (haciendo doble-clic) y revise cómo se escribe, cómo se ve y luego practique desarrollando sus propios ejemplos.\n",
        "\n",
        "\n",
        "\n"
      ]
    },
    {
      "cell_type": "code",
      "metadata": {
        "colab": {
          "base_uri": "https://localhost:8080/",
          "height": 275
        },
        "id": "ISyPkaI28LCK",
        "outputId": "f6974ff1-8c5b-45ef-c134-1f30defbf979"
      },
      "source": [
        "# EJEMPLO DE HTML EMBEBIDO EN PYTHON\n",
        "%%html\n",
        "<canvas id=\"myCanvas\" width=\"200\" height=\"100\"></canvas>\n",
        "\n",
        "<svg xmlns=\"http://www.w3.org/2000/svg\" viewBox=\"0 0 450 400\" width=\"200\" height=\"200\">\n",
        "  <rect x=\"80\" y=\"60\" width=\"250\" height=\"250\" rx=\"20\" style=\"fill:red; stroke:black; fill-opacity:0.7\" />\n",
        "  <rect x=\"180\" y=\"110\" width=\"250\" height=\"250\" rx=\"40\" style=\"fill:olive; stroke:black; fill-opacity:0.5;\" />\n",
        "</svg><br>\n",
        "<marquee style='width: 30%; color: #aaa800;'><b>Bienvenidos al curso de Pensamiento Algorítmico!!</b></marquee>\n",
        "<br><br>\n",
        "<a href=\"http://example.com\">link</a>\n"
      ],
      "execution_count": null,
      "outputs": [
        {
          "output_type": "display_data",
          "data": {
            "text/html": [
              "<canvas id=\"myCanvas\" width=\"200\" height=\"100\"></canvas>\n",
              "\n",
              "<svg xmlns=\"http://www.w3.org/2000/svg\" viewBox=\"0 0 450 400\" width=\"200\" height=\"200\">\n",
              "  <rect x=\"80\" y=\"60\" width=\"250\" height=\"250\" rx=\"20\" style=\"fill:red; stroke:black; fill-opacity:0.7\" />\n",
              "  <rect x=\"180\" y=\"110\" width=\"250\" height=\"250\" rx=\"40\" style=\"fill:olive; stroke:black; fill-opacity:0.5;\" />\n",
              "</svg><br>\n",
              "<marquee style='width: 30%; color: #aaa800;'><b>Bienvenidos al curso de Pensamiento Algorítmico!!</b></marquee>\n",
              "<br><br>\n",
              "<a href=\"http://example.com\">link</a>"
            ],
            "text/plain": [
              "<IPython.core.display.HTML object>"
            ]
          },
          "metadata": {
            "tags": []
          }
        }
      ]
    },
    {
      "cell_type": "markdown",
      "metadata": {
        "id": "ol20fXeU8VMt"
      },
      "source": [
        "## __1. Títulos en celdas de texto:__\n",
        "\n",
        "> - Se pueden utilizar hasta cuatro niveles de títulos en _Markdown_. los títulos quedan visibles en el índice de Colab. Por ejemplo:\n",
        ">\n",
        ">> # __TÍTULO DE PRIMER NIVEL__\n",
        ">> ## Título segundo nivel\n",
        ">> ### Título tercer nivel\n",
        ">> #### Título cuarto nivel\n",
        "\n",
        "\n",
        "---\n",
        "\n"
      ]
    },
    {
      "cell_type": "markdown",
      "metadata": {
        "id": "7bKof6d88nhg"
      },
      "source": [
        "## __2. Listas con viñetas y realce de texto__\n",
        "Con respecto a el resaltado del texto y las listas cómo funciona: Ejemplo lista de viñetas:\n",
        "* puedo iniciar con guión o con asterisco\n",
        "- item 1 de la lista\n",
        "- item 2 de la lista\n",
        "    - nuevo item\n",
        "    - nivel 2 \n",
        "* también funciona<br> cambio de linea `texto tipo mono`\n",
        "\n",
        "\n",
        "*   Poner texto en negrilla: __texto en negrita__ texto normal o **texto en negrilla**\n",
        "\n",
        "```\n",
        "# Esto tiene formato de código\n",
        "```\n",
        "\n",
        "\n",
        "*   Poner texto en cursiva: *texto cursiva* texto normal o _texto en cursiva_\n",
        "*   Intercalar texto mono-espacio y fin de linea:<br>`texto mono`<br>texto normal\n",
        "*   Color en el texto cuando sea necesario <font color=yellow>Amarillo</font> o texto color <font color=green>Verde</font>\n",
        "-  Otro item de la lista pero inicia con guión\n",
        "-  texto tachado ~~tachado~~\n",
        "-  ''comillas'' --guiones\n",
        "    - nuevo elemento\n",
        "    - mas elementos\n",
        "\n",
        "\n",
        "---\n",
        "\n",
        "__COLORES INSTITUCIONALES__\n",
        "- <font color=#aaa800 size=5>Color amarillo RGB(170,168,0)</font> \n",
        "- <font color=olive size=5><b> Color Oliva</b></font>\n",
        "- <font color=#b12009 size=5><b> Color Rojo RGB(177,32,9)</b></font>\n",
        "- <font color=#161616 size=5><b> Color Gris Oscuro</b></font>\n",
        "***\n",
        "\n",
        "__PRUEBA CON FUENTES DE TEXTO__\n",
        "- <font size=5 face=\"Verdana\"> 1 Font Test Universidad Central **Verdana**</font>\n",
        "- <font size=5 face=\"Sans Serif\"> 2 Font Test Universidad Central **Sans Serif**</font>\n",
        "- <font size=5 face=\"Helvetica\"> 3 Font Test Universidad Central **Helvetica**</font>\n",
        "- <font size=5 face=\"Arial\"> 4 Font Test Universidad Central **Arial**</font>\n",
        "- <font size=5 face=\"Bookman Old Style\"> 5 Font Test Universidad Central **Bookman Old Style**</font>\n",
        "- <font size=5 face=\"Book Antiqua\"> 6 Font Test Universidad Central **Book Antiqua**</font>\n",
        "- <font size=5 face=\"Garamond\"> 7 Font Test Universidad Central **Garamond**</font>\n",
        "- <font size=5 face=\"Roman\"> 8 Font Test Universidad Central **Roman**</font>\n",
        "- <font size=5 face=\"Currier\"> 9 Font Test Universidad Central **Currier**</font>"
      ]
    },
    {
      "cell_type": "markdown",
      "metadata": {
        "id": "rxh4SjrJ82cQ"
      },
      "source": [
        "## __3. Listas numeradas__\n",
        "\n",
        "Ahora revisemos listas numeradas\n",
        "\n",
        "5. Primer elemento de la lista\n",
        "1. Algo más que decir\n",
        "2. Segundo elemento de la lista\n",
        "   1. sub lista - elemento 1\n",
        "   2. sub lista - elemento 2\n",
        "3. Podemos dejar el mismo número\n",
        "1. inserto nuevo elemento\n",
        "4. La lista sigue numerando automáticamente...\n",
        "\n",
        "---\n",
        "\n"
      ]
    },
    {
      "cell_type": "markdown",
      "metadata": {
        "id": "7swoJrId9TQO"
      },
      "source": [
        "## __4. Sangría del párrafo__\n",
        "También tenemos la posibilidad de sangrar el texto cuando sea necesario\n",
        "> este es un ejemplo\n",
        ">> se puede aún más\n",
        ">>> tantas veces cómo sea necesario!\n",
        "\n",
        "***\n",
        "\n"
      ]
    },
    {
      "cell_type": "markdown",
      "metadata": {
        "id": "lOuYi3pT9O7P"
      },
      "source": [
        "## __5. Documentar código__\n",
        "Cuándo se necesita usar bloques de código con realce de sintaxis dentro de una celda de texto, por ejemplo para explicar un proceso algorítmico:\n",
        "\n",
        "\n",
        "\n",
        "```python\n",
        "# código de python\n",
        "if x > 2:\n",
        "    s = \"string\"\n",
        "```\n",
        "\n",
        "\n",
        "\n",
        "```javascript\n",
        "# This is formatted as code\n",
        "def f1(xx):\n",
        "    s = 'string'\n",
        "```\n",
        "\n",
        "\n",
        "\n",
        "\n",
        "```python\n",
        "# Tiene formato de código\n",
        "def function(a, b):\n",
        "    print('algo')\n",
        "    if a > b:\n",
        "        print('otra cosa')\n",
        "```\n",
        "\n",
        "\n",
        "\n",
        "```javascript\n",
        "// comentario javascript\n",
        "if(x=1; x<10; x++){\n",
        "  console.log(\"Hola mundo\")  \n",
        "}\n",
        "```\n",
        "Este es otro bloque de código, por ejemplo para otra tarea:\n",
        "\n",
        "```python\n",
        "# comentario python\n",
        "def minimun(A):\n",
        "    A.sort()\n",
        "    print('ordena arreglo')\n",
        "    return a[0]\n",
        "```\n",
        "***\n"
      ]
    },
    {
      "cell_type": "markdown",
      "metadata": {
        "id": "EFUysDh-9KKn"
      },
      "source": [
        "## __6. Uso de caracteres especiales Unicode__\n",
        "\n",
        "Carácteres Unicode ejemplos: &#9728; &#9730; &#9742; &#9775; \n",
        "\n",
        "Uso de código decimal y hexadecimal: &#960; &#x3c0; &#405; &#x195; &#x2602; &#x1f31e;\n",
        "\n",
        "__ÍCONOS UNICODE__\n",
        "- Idea &#128161;\n",
        "- Libro &#128218;\n",
        "- Video &#128249;  &#127909;  &#127902;  \n",
        "- Audio &#128266;  &#127925;\n",
        "- Tiempo &#9201;  &#8987;\n",
        "- Atención &#9757;\n",
        "- Sol &#127774;\n",
        "- Lluvia &#127783;\n",
        "- Logro &#127942;\n",
        "- Fuerte &#128170;\n",
        "- Carpeta &#128194;\n",
        "- Calendario &#128197;\n",
        "- Adjunto &#128206;\n",
        "- Notebook &#128210;\n",
        "- Enlace &#128279;\n",
        "- Herramientas &#128295;\n",
        "- buscar &#128373; &#128269;\n",
        "- llave  &#128273;\n",
        "- seguro  &#128274;\n",
        "- Campana &#128276;\n",
        "***\n",
        "<br><br>\n",
        "\n",
        "\n",
        "Para un listado completo de todos los caracteres buscar en: [FileFormat.info](https://www.fileformat.info/info/charset/index.htm) &#128279;\n",
        "\n",
        "\n",
        "* Contra barra y espacio: \\\\ \\\n",
        "* Asterisco y barra baja: \\* \\_\n",
        "* Paréntesis: \\{\\} \\[\\] \\(\\)\n",
        "* Sostenido: \\#\n",
        "* Otros: \\+ \\- \\. \\! \\: \\\n",
        "\n",
        "Para finalizar una línea de separación \n",
        "***\n",
        "También se puede hacer con guíones:\n",
        "\n",
        "---\n",
        "\n"
      ]
    },
    {
      "cell_type": "markdown",
      "metadata": {
        "id": "xe_p5Tk19Dzq"
      },
      "source": [
        "## __7. Use latex para las ecuaciones:__\n",
        "\n",
        "A continuación ejemplos de codificación en latex para mostrar ecuaciones con calidad. \n",
        "- $\\sum \\int \\frac{\\sqrt{x}}{a^2}$\n",
        "\n",
        "- $\\sum_{i=1}^n \\alpha_i + \\frac{num}{1- e^{2\\pi n}}$\n",
        "\n",
        "- $\\sin^2 x + \\cos^2 x = 1$\n",
        "\n",
        "\n",
        "- $S = \\mathrm{k_B}\\ln\\Omega$\n",
        "\n",
        "\n",
        "- $$\\left[\\begin{matrix}   a & b & c \\\\   d & e & f \\\\   g & h & i \\end{matrix}\\right]$$\n",
        "\n",
        "\n",
        "- $$\\mathbf{K}=\\int_V \\mathbf{B}^\\intercal \\mathbf{D B}\\mathrm{d}x \\mathrm{d}y \\mathrm{d}z$$\n",
        "\n",
        "\n",
        "- $$\\sum_{k=1}^N \\sqrt{k_i^2+1}$$\n",
        "\n",
        "\n",
        "- $\\left({1+\\displaystyle\\frac{1}{n}}\\right)^n$\n",
        " \n",
        "Existe gran cantidad de documentación de __latex__ en la red:\n",
        "- en este sitio puede iniciar a practicar con algunas fórmulas [latex formulas](http://minisconlatex.blogspot.com/2010/11/ecuaciones.html) &#128279;\n",
        "- Un manual en línea para escribir ecuaciones de latex: [manual de latex](https://manualdelatex.com/tutoriales/ecuaciones) &#128279;\n",
        "\n",
        "También puede practicar en un editor en línea [Editor de ecucaciones](https://www.codecogs.com/latex/eqneditor.php?lang=es-es) &#128279;\n",
        "\n",
        "***\n",
        "\n"
      ]
    },
    {
      "cell_type": "markdown",
      "metadata": {
        "id": "L1J5ZQUV880y"
      },
      "source": [
        "## __8. Editar tablas__\n",
        "Siguiendo algunas convenciones simples, como se muestra en el siguiente ejemplo, puede generar tablas interesantes\n",
        "\n",
        ">Operación | Siginificado | Resultado\n",
        ">--- | :---: | ---:\n",
        ">5032 + 7624 + 365  | sumar valores | 13021\n",
        ">18213 - 9567.5  | restar valores | 8645.5\n",
        ">13.3 * 8.52  | multiplicación |  113.316\n",
        ">35698.7 / 798.23 | división |  44.72232314\n",
        ">23 / 8 | División | 2.875\n",
        ">23 // 8 | División entera | 2\n",
        ">23 % 8 | Módulo de la división | 7\n",
        ">13\\*\\*2 | Potenciación | 169\n",
        "\n",
        "| h1 | h2 |\n",
        "| --- | ---: |\n",
        "| hola | mundo |\n",
        "\n",
        "> columna 1 | columna 2 | columna 3\n",
        "> --- | ---: | :---:\n",
        "> 1 | 2| $x_i$\n",
        "\n",
        "\n",
        "***\n",
        "\n"
      ]
    },
    {
      "cell_type": "markdown",
      "metadata": {
        "id": "-oNRnhrZ839A"
      },
      "source": [
        "## __9. Tarea de buscar y practicar__\n",
        "- Inserte una imagen\n",
        "- Agregue código html embebido \n",
        "- Utilice hiper-vínculos\n",
        "- Pruebe markdown en otros sitios, por ejemplo: [&#128279; Dillinger](https://dillinger.io/)\n"
      ]
    }
  ]
}